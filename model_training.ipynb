{
  "nbformat": 4,
  "nbformat_minor": 0,
  "metadata": {
    "kernelspec": {
      "name": "python3",
      "display_name": "Python 3"
    },
    "language_info": {
      "codemirror_mode": {
        "name": "ipython",
        "version": 3
      },
      "file_extension": ".py",
      "mimetype": "text/x-python",
      "name": "python",
      "nbconvert_exporter": "python",
      "pygments_lexer": "ipython3",
      "version": "3.6.6"
    },
    "colab": {
      "name": "model-training.ipynb",
      "provenance": [],
      "collapsed_sections": [
        "JHYO2rqpvs5C",
        "6XVBEVY8vs5F"
      ]
    },
    "accelerator": "TPU"
  },
  "cells": [
    {
      "cell_type": "markdown",
      "metadata": {
        "id": "pfoc8qEsvs4W",
        "colab_type": "text"
      },
      "source": [
        "# Model Training For Credit Scoring Models"
      ]
    },
    {
      "cell_type": "markdown",
      "metadata": {
        "id": "afk6aEMnvs4X",
        "colab_type": "text"
      },
      "source": [
        "# Packages"
      ]
    },
    {
      "cell_type": "markdown",
      "metadata": {
        "id": "78JGo2Qhvs4b",
        "colab_type": "text"
      },
      "source": [
        "### Packages required"
      ]
    },
    {
      "cell_type": "code",
      "metadata": {
        "id": "fbU80BBaQeJv",
        "colab_type": "code",
        "outputId": "34b41c93-3bdf-4a2f-866a-6dde1f1d43be",
        "colab": {
          "base_uri": "https://localhost:8080/",
          "height": 187
        }
      },
      "source": [
        "  !pip install shap"
      ],
      "execution_count": 0,
      "outputs": [
        {
          "output_type": "stream",
          "text": [
            "Requirement already satisfied: shap in /usr/local/lib/python3.6/dist-packages (0.34.0)\n",
            "Requirement already satisfied: tqdm>4.25.0 in /usr/local/lib/python3.6/dist-packages (from shap) (4.28.1)\n",
            "Requirement already satisfied: pandas in /usr/local/lib/python3.6/dist-packages (from shap) (0.25.3)\n",
            "Requirement already satisfied: scipy in /usr/local/lib/python3.6/dist-packages (from shap) (1.3.3)\n",
            "Requirement already satisfied: numpy in /usr/local/lib/python3.6/dist-packages (from shap) (1.17.4)\n",
            "Requirement already satisfied: scikit-learn in /usr/local/lib/python3.6/dist-packages (from shap) (0.21.3)\n",
            "Requirement already satisfied: python-dateutil>=2.6.1 in /usr/local/lib/python3.6/dist-packages (from pandas->shap) (2.6.1)\n",
            "Requirement already satisfied: pytz>=2017.2 in /usr/local/lib/python3.6/dist-packages (from pandas->shap) (2018.9)\n",
            "Requirement already satisfied: joblib>=0.11 in /usr/local/lib/python3.6/dist-packages (from scikit-learn->shap) (0.14.1)\n",
            "Requirement already satisfied: six>=1.5 in /usr/local/lib/python3.6/dist-packages (from python-dateutil>=2.6.1->pandas->shap) (1.12.0)\n"
          ],
          "name": "stdout"
        }
      ]
    },
    {
      "cell_type": "code",
      "metadata": {
        "_cell_guid": "b1076dfc-b9ad-4769-8c92-a6c4dae69d19",
        "_uuid": "8f2839f25d086af736a60e9eeb907d3b93b6e0e5",
        "id": "IaSwtIgWvs4c",
        "colab_type": "code",
        "colab": {}
      },
      "source": [
        "import pandas as pd\n",
        "import numpy as np\n",
        "\n",
        "from imblearn.over_sampling import SMOTE\n",
        "import shap\n",
        "\n",
        "from sklearn.model_selection import train_test_split\n",
        "from sklearn.model_selection import GridSearchCV\n",
        "from sklearn.model_selection import StratifiedKFold\n",
        "from sklearn.feature_selection import RFECV\n",
        "from sklearn.datasets import make_classification\n",
        "from sklearn.feature_selection import SelectFromModel\n",
        "from sklearn.metrics import roc_curve, auc, classification_report, accuracy_score, confusion_matrix\n",
        "from sklearn.model_selection import GridSearchCV\n",
        "import itertools    \n",
        "from itertools import compress\n",
        "\n",
        "from sklearn.linear_model import LogisticRegression\n",
        "from sklearn.ensemble import RandomForestClassifier\n",
        "from sklearn.svm import LinearSVC\n",
        "\n",
        "import xgboost as xgb\n",
        "from xgboost import XGBClassifier\n",
        "\n",
        "from keras.models import Sequential\n",
        "from keras.layers import Dense, Dropout\n",
        "from keras.optimizers import Adam, Nadam, rmsprop, SGD\n",
        "from keras.losses import binary_crossentropy, hinge\n",
        "from keras.wrappers.scikit_learn import KerasClassifier\n",
        "from keras.activations import relu, elu, softmax, sigmoid\n",
        "\n",
        "from mlxtend.evaluate import mcnemar_table\n",
        "from mlxtend.evaluate import mcnemar\n",
        "from scipy import stats\n",
        "\n",
        "import matplotlib\n",
        "import matplotlib.pyplot as plt\n",
        "import seaborn as sns\n",
        "\n",
        "import sys as sys\n",
        "sys.setrecursionlimit(1500)\n",
        "\n",
        "import warnings\n",
        "warnings.filterwarnings('ignore')"
      ],
      "execution_count": 0,
      "outputs": []
    },
    {
      "cell_type": "code",
      "metadata": {
        "id": "HvM9DC5lwKzj",
        "colab_type": "code",
        "colab": {}
      },
      "source": [
        "!pip install -U -q PyDrive\n",
        "from pydrive.auth import GoogleAuth\n",
        "from pydrive.drive import GoogleDrive\n",
        "from google.colab import auth\n",
        "from oauth2client.client import GoogleCredentials\n",
        "from google.colab import files"
      ],
      "execution_count": 0,
      "outputs": []
    },
    {
      "cell_type": "code",
      "metadata": {
        "id": "lWBS0mduwNZ-",
        "colab_type": "code",
        "colab": {}
      },
      "source": [
        "# Authenticate and create the PyDrive client.\n",
        "auth.authenticate_user()\n",
        "gauth = GoogleAuth()\n",
        "gauth.credentials = GoogleCredentials.get_application_default()\n",
        "drive = GoogleDrive(gauth)"
      ],
      "execution_count": 0,
      "outputs": []
    },
    {
      "cell_type": "markdown",
      "metadata": {
        "id": "bz2pQrtmvs4p",
        "colab_type": "text"
      },
      "source": [
        "# Train/Test Split and Class Balancing Functions"
      ]
    },
    {
      "cell_type": "markdown",
      "metadata": {
        "id": "J5TWFSD3vs4v",
        "colab_type": "text"
      },
      "source": [
        "\n",
        "### Train/Test Split Function"
      ]
    },
    {
      "cell_type": "code",
      "metadata": {
        "id": "yE3S6xQivs4v",
        "colab_type": "code",
        "colab": {}
      },
      "source": [
        "def get_train_test_split(X,y):\n",
        "    X_train, X_test, y_train, y_test = train_test_split(X, y, test_size=0.2, random_state=42)\n",
        "    return  np.array(X_train), np.array(X_test), np.array(y_train), np.array(y_test)"
      ],
      "execution_count": 0,
      "outputs": []
    },
    {
      "cell_type": "markdown",
      "metadata": {
        "id": "eyHcOb90NWzr",
        "colab_type": "text"
      },
      "source": [
        ""
      ]
    },
    {
      "cell_type": "markdown",
      "metadata": {
        "id": "hAYvQQ7Kvs4x",
        "colab_type": "text"
      },
      "source": [
        "### Class Balancing Function"
      ]
    },
    {
      "cell_type": "code",
      "metadata": {
        "id": "4zrQJZqFvs4y",
        "colab_type": "code",
        "colab": {}
      },
      "source": [
        "def balance_classes(X, y):\n",
        "    sm = SMOTE(random_state=2)\n",
        "    X_train_res, y_train_res = sm.fit_sample(X, y.ravel())\n",
        "    return X_train_res, y_train_res"
      ],
      "execution_count": 0,
      "outputs": []
    },
    {
      "cell_type": "code",
      "metadata": {
        "id": "ZRewssLqvs40",
        "colab_type": "code",
        "colab": {}
      },
      "source": [
        "def set_sets(X,y):\n",
        "    X_train, X_test, y_train, y_test =  get_train_test_split(X,y)\n",
        "    X_train_res, y_train_res = balance_classes(X_train, y_train)\n",
        "    print(\"Number rows X_train dataset: \", X_train.shape)\n",
        "    print(\"Number rows y_train dataset: \", y_train.shape, \"\\n\")\n",
        "    print(\"Number rows X_test dataset: \", X_test.shape)\n",
        "    print(\"Number rows y_test dataset: \", y_test.shape, \"\\n\")\n",
        "    print(\"Before OverSampling, counts of label '1': {}\".format(sum(y_train==1)))\n",
        "    print(\"Before OverSampling, counts of label '0': {} \\n\".format(sum(y_train==0)))\n",
        "    print('After OverSampling, the shape of train_X: {}'.format(X_train_res.shape))\n",
        "    print('After OverSampling, the shape of train_y: {} \\n'.format(y_train_res.shape))\n",
        "    print(\"After OverSampling, counts of label '1': {}\".format(sum(y_train_res==1)))\n",
        "    print(\"After OverSampling, counts of label '0': {}\".format(sum(y_train_res==0)))\n",
        "    return X_train_res, X_test, y_train_res, y_test"
      ],
      "execution_count": 0,
      "outputs": []
    },
    {
      "cell_type": "markdown",
      "metadata": {
        "id": "ybAUmgWU0uQz",
        "colab_type": "text"
      },
      "source": [
        "# Read in Data and Use Functions to Select and Balance Data"
      ]
    },
    {
      "cell_type": "markdown",
      "metadata": {
        "id": "IoreUKCkvs4h",
        "colab_type": "text"
      },
      "source": [
        "### Seperate Data into Different Socio-demographic, Credit Bureau and Alternative"
      ]
    },
    {
      "cell_type": "code",
      "metadata": {
        "id": "sk7o5SM7vs4k",
        "colab_type": "code",
        "colab": {}
      },
      "source": [
        "def seperate_data(data, types):\n",
        "    cols = []\n",
        "    for t in types:\n",
        "        cols = cols + t\n",
        "    data = data[cols]\n",
        "    return data\n",
        "  \n",
        "def get_features(types):\n",
        "    cols = []\n",
        "    for t in types:\n",
        "        cols = cols + t\n",
        "    return cols"
      ],
      "execution_count": 0,
      "outputs": []
    },
    {
      "cell_type": "code",
      "metadata": {
        "id": "MS2KMM8pvs4i",
        "colab_type": "code",
        "colab": {}
      },
      "source": [
        "    socio = ['property_status','highest_education','time_at_employer','loan_purpose',\n",
        "             'time_at_current_address', 'state', 'bank', 'marital_status', 'employment_status',\n",
        "             'gender', 'device_brand','sector','application_time', 'application_week','income',\n",
        "             'time_at_property', 'num_applications', 'age'\n",
        "    ]\n",
        "    \n",
        "    credit = ['total_accounts', 'open_accounts_by_date', 'closed_accounts_by_date','performing_loans',\n",
        "              'paid_loans', 'nonperforming_loans', 'lost_loans', 'missed_payments'\n",
        "    ]\n",
        "    \n",
        "    alt = ['competitor_count', 'banking_count', 'news_count', 'gambling_count', 'vpn_count',\n",
        "           'app_count', 'device_price', 'max_balance', 'min_balance', 'credit_transactions',\n",
        "           'max_credit', 'min_credit', 'debit_transactions', 'max_debit', 'min_debit', \n",
        "           'insufficient_funds','succesful_payments', 'max_succesful_loan_payment', 'min_succesful_loan_payment',\n",
        "           'unsuccesful_payments', 'max_unsuccesful_loan_payment', 'min_unsuccesful_loan_payment',\n",
        "           'rejected_loans', 'max_loan_amount'\n",
        "    ]"
      ],
      "execution_count": 0,
      "outputs": []
    },
    {
      "cell_type": "markdown",
      "metadata": {
        "id": "nF1Bu7heAngH",
        "colab_type": "text"
      },
      "source": [
        "### Reading Data from Google Drive"
      ]
    },
    {
      "cell_type": "code",
      "metadata": {
        "id": "9PFURcI3vs42",
        "colab_type": "code",
        "outputId": "b0167325-d8dd-481a-d4bc-2473314ce2ba",
        "colab": {
          "base_uri": "https://localhost:8080/",
          "height": 309
        }
      },
      "source": [
        "# read in\n",
        "data_link = drive.CreateFile({'id':'1uSH8hGWPAacgmZocXjh0uwNrXRj1yfdC'}) \n",
        "data_link.GetContentFile('final_model_data.csv')\n",
        "data = pd.read_csv('final_model_data.csv')\n",
        "data = data.drop(['Unnamed: 0', 'check'], axis=1)\n",
        "\n",
        "# select\n",
        "# data = data.iloc[:1000, :]\n",
        "target = data['defaulted']\n",
        "data = seperate_data(data, [socio,credit,alt])\n",
        "data.head()"
      ],
      "execution_count": 0,
      "outputs": [
        {
          "output_type": "execute_result",
          "data": {
            "text/html": [
              "<div>\n",
              "<style scoped>\n",
              "    .dataframe tbody tr th:only-of-type {\n",
              "        vertical-align: middle;\n",
              "    }\n",
              "\n",
              "    .dataframe tbody tr th {\n",
              "        vertical-align: top;\n",
              "    }\n",
              "\n",
              "    .dataframe thead th {\n",
              "        text-align: right;\n",
              "    }\n",
              "</style>\n",
              "<table border=\"1\" class=\"dataframe\">\n",
              "  <thead>\n",
              "    <tr style=\"text-align: right;\">\n",
              "      <th></th>\n",
              "      <th>property_status</th>\n",
              "      <th>highest_education</th>\n",
              "      <th>time_at_employer</th>\n",
              "      <th>loan_purpose</th>\n",
              "      <th>time_at_current_address</th>\n",
              "      <th>state</th>\n",
              "      <th>bank</th>\n",
              "      <th>marital_status</th>\n",
              "      <th>employment_status</th>\n",
              "      <th>gender</th>\n",
              "      <th>device_brand</th>\n",
              "      <th>sector</th>\n",
              "      <th>application_time</th>\n",
              "      <th>application_week</th>\n",
              "      <th>income</th>\n",
              "      <th>time_at_property</th>\n",
              "      <th>num_applications</th>\n",
              "      <th>age</th>\n",
              "      <th>total_accounts</th>\n",
              "      <th>open_accounts_by_date</th>\n",
              "      <th>closed_accounts_by_date</th>\n",
              "      <th>performing_loans</th>\n",
              "      <th>paid_loans</th>\n",
              "      <th>nonperforming_loans</th>\n",
              "      <th>lost_loans</th>\n",
              "      <th>missed_payments</th>\n",
              "      <th>competitor_count</th>\n",
              "      <th>banking_count</th>\n",
              "      <th>news_count</th>\n",
              "      <th>gambling_count</th>\n",
              "      <th>vpn_count</th>\n",
              "      <th>app_count</th>\n",
              "      <th>device_price</th>\n",
              "      <th>max_balance</th>\n",
              "      <th>min_balance</th>\n",
              "      <th>credit_transactions</th>\n",
              "      <th>max_credit</th>\n",
              "      <th>min_credit</th>\n",
              "      <th>debit_transactions</th>\n",
              "      <th>max_debit</th>\n",
              "      <th>min_debit</th>\n",
              "      <th>insufficient_funds</th>\n",
              "      <th>succesful_payments</th>\n",
              "      <th>max_succesful_loan_payment</th>\n",
              "      <th>min_succesful_loan_payment</th>\n",
              "      <th>unsuccesful_payments</th>\n",
              "      <th>max_unsuccesful_loan_payment</th>\n",
              "      <th>min_unsuccesful_loan_payment</th>\n",
              "      <th>rejected_loans</th>\n",
              "      <th>max_loan_amount</th>\n",
              "    </tr>\n",
              "  </thead>\n",
              "  <tbody>\n",
              "    <tr>\n",
              "      <th>0</th>\n",
              "      <td>0.806746</td>\n",
              "      <td>0.489892</td>\n",
              "      <td>0.812519</td>\n",
              "      <td>0.000000</td>\n",
              "      <td>0.780568</td>\n",
              "      <td>0.711475</td>\n",
              "      <td>0.485242</td>\n",
              "      <td>0.000000</td>\n",
              "      <td>0.790843</td>\n",
              "      <td>0.0</td>\n",
              "      <td>0.222567</td>\n",
              "      <td>0.764172</td>\n",
              "      <td>0.646574</td>\n",
              "      <td>0.000000</td>\n",
              "      <td>7.500000e-08</td>\n",
              "      <td>0.193656</td>\n",
              "      <td>0.006579</td>\n",
              "      <td>0.027397</td>\n",
              "      <td>0.021053</td>\n",
              "      <td>0.026667</td>\n",
              "      <td>0.013158</td>\n",
              "      <td>0.010417</td>\n",
              "      <td>0.0</td>\n",
              "      <td>0.125</td>\n",
              "      <td>0.076923</td>\n",
              "      <td>0.073801</td>\n",
              "      <td>0.428571</td>\n",
              "      <td>0.043478</td>\n",
              "      <td>0.0</td>\n",
              "      <td>0.000000</td>\n",
              "      <td>0.047619</td>\n",
              "      <td>0.092601</td>\n",
              "      <td>0.001204</td>\n",
              "      <td>0.000271</td>\n",
              "      <td>0.987892</td>\n",
              "      <td>0.000000</td>\n",
              "      <td>0.000070</td>\n",
              "      <td>0.719049</td>\n",
              "      <td>0.000316</td>\n",
              "      <td>0.000006</td>\n",
              "      <td>0.921367</td>\n",
              "      <td>0.000000</td>\n",
              "      <td>0.00027</td>\n",
              "      <td>1.188119e-14</td>\n",
              "      <td>1.188119e-14</td>\n",
              "      <td>0.002273</td>\n",
              "      <td>2.524861e-09</td>\n",
              "      <td>2.524861e-09</td>\n",
              "      <td>0.000000</td>\n",
              "      <td>0.723878</td>\n",
              "    </tr>\n",
              "    <tr>\n",
              "      <th>1</th>\n",
              "      <td>0.917729</td>\n",
              "      <td>0.407932</td>\n",
              "      <td>0.327400</td>\n",
              "      <td>0.999145</td>\n",
              "      <td>0.582878</td>\n",
              "      <td>0.664383</td>\n",
              "      <td>0.642608</td>\n",
              "      <td>0.000000</td>\n",
              "      <td>0.790843</td>\n",
              "      <td>0.0</td>\n",
              "      <td>0.222567</td>\n",
              "      <td>0.764172</td>\n",
              "      <td>0.561708</td>\n",
              "      <td>1.000000</td>\n",
              "      <td>2.500000e-08</td>\n",
              "      <td>0.055092</td>\n",
              "      <td>0.072368</td>\n",
              "      <td>0.011986</td>\n",
              "      <td>0.010526</td>\n",
              "      <td>0.013333</td>\n",
              "      <td>0.013158</td>\n",
              "      <td>0.020833</td>\n",
              "      <td>0.0</td>\n",
              "      <td>0.000</td>\n",
              "      <td>0.000000</td>\n",
              "      <td>0.003690</td>\n",
              "      <td>0.285714</td>\n",
              "      <td>0.086957</td>\n",
              "      <td>0.0</td>\n",
              "      <td>0.027778</td>\n",
              "      <td>0.000000</td>\n",
              "      <td>0.088062</td>\n",
              "      <td>0.001745</td>\n",
              "      <td>0.000273</td>\n",
              "      <td>0.987892</td>\n",
              "      <td>0.000607</td>\n",
              "      <td>0.000010</td>\n",
              "      <td>0.755124</td>\n",
              "      <td>0.000842</td>\n",
              "      <td>0.000022</td>\n",
              "      <td>0.921367</td>\n",
              "      <td>0.000000</td>\n",
              "      <td>0.00000</td>\n",
              "      <td>0.000000e+00</td>\n",
              "      <td>0.000000e+00</td>\n",
              "      <td>0.009091</td>\n",
              "      <td>5.049709e-09</td>\n",
              "      <td>0.000000e+00</td>\n",
              "      <td>0.000000</td>\n",
              "      <td>0.723886</td>\n",
              "    </tr>\n",
              "    <tr>\n",
              "      <th>2</th>\n",
              "      <td>0.917729</td>\n",
              "      <td>0.489892</td>\n",
              "      <td>0.620556</td>\n",
              "      <td>0.234357</td>\n",
              "      <td>0.409101</td>\n",
              "      <td>0.655875</td>\n",
              "      <td>0.625619</td>\n",
              "      <td>0.184296</td>\n",
              "      <td>1.000000</td>\n",
              "      <td>0.0</td>\n",
              "      <td>0.000000</td>\n",
              "      <td>0.656833</td>\n",
              "      <td>0.561708</td>\n",
              "      <td>0.505533</td>\n",
              "      <td>7.500000e-08</td>\n",
              "      <td>0.126878</td>\n",
              "      <td>0.000000</td>\n",
              "      <td>0.042808</td>\n",
              "      <td>0.021053</td>\n",
              "      <td>0.000000</td>\n",
              "      <td>0.039474</td>\n",
              "      <td>0.031250</td>\n",
              "      <td>0.0</td>\n",
              "      <td>0.000</td>\n",
              "      <td>0.000000</td>\n",
              "      <td>0.011070</td>\n",
              "      <td>0.428571</td>\n",
              "      <td>0.043478</td>\n",
              "      <td>0.0</td>\n",
              "      <td>0.000000</td>\n",
              "      <td>0.000000</td>\n",
              "      <td>0.052202</td>\n",
              "      <td>0.000664</td>\n",
              "      <td>0.000282</td>\n",
              "      <td>0.987892</td>\n",
              "      <td>0.003113</td>\n",
              "      <td>0.000015</td>\n",
              "      <td>0.755097</td>\n",
              "      <td>0.002211</td>\n",
              "      <td>0.000079</td>\n",
              "      <td>0.921367</td>\n",
              "      <td>0.000000</td>\n",
              "      <td>0.00081</td>\n",
              "      <td>1.000000e+00</td>\n",
              "      <td>9.900990e-16</td>\n",
              "      <td>0.000000</td>\n",
              "      <td>2.524854e-09</td>\n",
              "      <td>2.524854e-09</td>\n",
              "      <td>0.000000</td>\n",
              "      <td>0.723916</td>\n",
              "    </tr>\n",
              "    <tr>\n",
              "      <th>3</th>\n",
              "      <td>0.917729</td>\n",
              "      <td>0.489892</td>\n",
              "      <td>0.620556</td>\n",
              "      <td>1.000000</td>\n",
              "      <td>0.527291</td>\n",
              "      <td>0.689317</td>\n",
              "      <td>0.625619</td>\n",
              "      <td>0.274025</td>\n",
              "      <td>0.790843</td>\n",
              "      <td>0.0</td>\n",
              "      <td>0.125700</td>\n",
              "      <td>0.764172</td>\n",
              "      <td>1.000000</td>\n",
              "      <td>0.000000</td>\n",
              "      <td>4.450000e-07</td>\n",
              "      <td>0.068447</td>\n",
              "      <td>0.000000</td>\n",
              "      <td>0.063356</td>\n",
              "      <td>0.063158</td>\n",
              "      <td>0.000000</td>\n",
              "      <td>0.092105</td>\n",
              "      <td>0.062500</td>\n",
              "      <td>0.0</td>\n",
              "      <td>0.125</td>\n",
              "      <td>0.000000</td>\n",
              "      <td>0.044280</td>\n",
              "      <td>0.428571</td>\n",
              "      <td>0.043478</td>\n",
              "      <td>0.0</td>\n",
              "      <td>0.000000</td>\n",
              "      <td>0.000000</td>\n",
              "      <td>0.049024</td>\n",
              "      <td>0.002547</td>\n",
              "      <td>0.000294</td>\n",
              "      <td>0.987810</td>\n",
              "      <td>0.002809</td>\n",
              "      <td>0.000020</td>\n",
              "      <td>0.755124</td>\n",
              "      <td>0.003229</td>\n",
              "      <td>0.000084</td>\n",
              "      <td>0.921366</td>\n",
              "      <td>0.000000</td>\n",
              "      <td>0.00054</td>\n",
              "      <td>1.000000e+00</td>\n",
              "      <td>1.000000e+00</td>\n",
              "      <td>0.000000</td>\n",
              "      <td>2.524854e-09</td>\n",
              "      <td>2.524854e-09</td>\n",
              "      <td>0.000000</td>\n",
              "      <td>0.723902</td>\n",
              "    </tr>\n",
              "    <tr>\n",
              "      <th>4</th>\n",
              "      <td>0.772470</td>\n",
              "      <td>0.489892</td>\n",
              "      <td>1.000000</td>\n",
              "      <td>0.000000</td>\n",
              "      <td>0.215375</td>\n",
              "      <td>0.711475</td>\n",
              "      <td>0.521283</td>\n",
              "      <td>0.000000</td>\n",
              "      <td>1.000000</td>\n",
              "      <td>0.0</td>\n",
              "      <td>0.125700</td>\n",
              "      <td>0.737627</td>\n",
              "      <td>0.646574</td>\n",
              "      <td>1.000000</td>\n",
              "      <td>7.500000e-08</td>\n",
              "      <td>0.375626</td>\n",
              "      <td>0.052632</td>\n",
              "      <td>0.006849</td>\n",
              "      <td>0.021053</td>\n",
              "      <td>0.000000</td>\n",
              "      <td>0.039474</td>\n",
              "      <td>0.031250</td>\n",
              "      <td>0.0</td>\n",
              "      <td>0.000</td>\n",
              "      <td>0.000000</td>\n",
              "      <td>0.003690</td>\n",
              "      <td>0.142857</td>\n",
              "      <td>0.130435</td>\n",
              "      <td>0.0</td>\n",
              "      <td>0.013889</td>\n",
              "      <td>0.000000</td>\n",
              "      <td>0.062642</td>\n",
              "      <td>0.000530</td>\n",
              "      <td>0.000272</td>\n",
              "      <td>0.987891</td>\n",
              "      <td>0.000911</td>\n",
              "      <td>0.000011</td>\n",
              "      <td>0.755098</td>\n",
              "      <td>0.000579</td>\n",
              "      <td>0.000014</td>\n",
              "      <td>0.921367</td>\n",
              "      <td>0.004545</td>\n",
              "      <td>0.00135</td>\n",
              "      <td>1.287129e-14</td>\n",
              "      <td>1.287129e-14</td>\n",
              "      <td>0.006818</td>\n",
              "      <td>2.524862e-09</td>\n",
              "      <td>2.524859e-09</td>\n",
              "      <td>0.060976</td>\n",
              "      <td>0.723879</td>\n",
              "    </tr>\n",
              "  </tbody>\n",
              "</table>\n",
              "</div>"
            ],
            "text/plain": [
              "   property_status  highest_education  ...  rejected_loans  max_loan_amount\n",
              "0         0.806746           0.489892  ...        0.000000         0.723878\n",
              "1         0.917729           0.407932  ...        0.000000         0.723886\n",
              "2         0.917729           0.489892  ...        0.000000         0.723916\n",
              "3         0.917729           0.489892  ...        0.000000         0.723902\n",
              "4         0.772470           0.489892  ...        0.060976         0.723879\n",
              "\n",
              "[5 rows x 50 columns]"
            ]
          },
          "metadata": {
            "tags": []
          },
          "execution_count": 66
        }
      ]
    },
    {
      "cell_type": "code",
      "metadata": {
        "id": "OuQ0mKX31_UL",
        "colab_type": "code",
        "outputId": "1068caae-bb61-4b25-8001-856c1614f51c",
        "colab": {
          "base_uri": "https://localhost:8080/",
          "height": 255
        }
      },
      "source": [
        "# balance classes\n",
        "X_train_res, X_test, y_train_res, y_test = set_sets(data, target)"
      ],
      "execution_count": 0,
      "outputs": [
        {
          "output_type": "stream",
          "text": [
            "Number rows X_train dataset:  (48539, 50)\n",
            "Number rows y_train dataset:  (48539,) \n",
            "\n",
            "Number rows X_test dataset:  (12135, 50)\n",
            "Number rows y_test dataset:  (12135,) \n",
            "\n",
            "Before OverSampling, counts of label '1': 10147\n",
            "Before OverSampling, counts of label '0': 38392 \n",
            "\n",
            "After OverSampling, the shape of train_X: (76784, 50)\n",
            "After OverSampling, the shape of train_y: (76784,) \n",
            "\n",
            "After OverSampling, counts of label '1': 38392\n",
            "After OverSampling, counts of label '0': 38392\n"
          ],
          "name": "stdout"
        }
      ]
    },
    {
      "cell_type": "markdown",
      "metadata": {
        "id": "o3U2hQQovs49",
        "colab_type": "text"
      },
      "source": [
        "# Feautre Selection"
      ]
    },
    {
      "cell_type": "markdown",
      "metadata": {
        "id": "EW260vd8AzsY",
        "colab_type": "text"
      },
      "source": [
        "### Correlation"
      ]
    },
    {
      "cell_type": "code",
      "metadata": {
        "id": "vnASUpsUvs4-",
        "colab_type": "code",
        "colab": {}
      },
      "source": [
        "# def get_feat_corr(X):\n",
        "#     plt.figure(figsize=(10,10))\n",
        "#     X = pd.DataFrame(X, columns=data.columns)\n",
        "#     cor = X.corr().round(decimals=2)\n",
        "#     sns.heatmap(cor, annot=True, cmap=plt.cm.Blues)\n",
        "#     plt.show()"
      ],
      "execution_count": 0,
      "outputs": []
    },
    {
      "cell_type": "code",
      "metadata": {
        "id": "QZY78DfKvs5A",
        "colab_type": "code",
        "colab": {}
      },
      "source": [
        "# get_feat_corr(X_train_res)"
      ],
      "execution_count": 0,
      "outputs": []
    },
    {
      "cell_type": "markdown",
      "metadata": {
        "id": "HafThSq_d-yR",
        "colab_type": "text"
      },
      "source": [
        "### Feature Seleciton"
      ]
    },
    {
      "cell_type": "code",
      "metadata": {
        "id": "M-J2UZfReDk5",
        "colab_type": "code",
        "colab": {}
      },
      "source": [
        "def feature_selection(model, X, y, types):\n",
        "  rfecv = RFECV(estimator=model, step=1, cv=StratifiedKFold(5),scoring='accuracy')\n",
        "  rfecv.fit(X, y)\n",
        "  # Plot number of features VS. cross-validation scores\n",
        "  plt.figure()\n",
        "  plt.xlabel(\"Number of features selected\")\n",
        "  plt.ylabel(\"Cross validation score (nb of correct classifications)\")\n",
        "  plt.plot(range(1, len(rfecv.grid_scores_) + 1), rfecv.grid_scores_)\n",
        "  plt.show()\n",
        "  # print optimal number of features\n",
        "  print(\"Optimal number of features : %d\" % rfecv.n_features_)\n",
        "  # print the optimal features\n",
        "  features = get_features(types)\n",
        "  # order of features to use\n",
        "  support = rfecv.support_\n",
        "  omit = [not i for i in support]\n",
        "  final_feautres = list(compress(features, support))\n",
        "  omitted_feautres = list(compress(features, omit))\n",
        "  print('The optimal features are:')\n",
        "  print(final_feautres)\n",
        "  print('The omitted features are:')  \n",
        "  print(omitted_feautres) \n",
        "  return support, final_feautres"
      ],
      "execution_count": 0,
      "outputs": []
    },
    {
      "cell_type": "code",
      "metadata": {
        "id": "VXcDPBbVhLqy",
        "colab_type": "code",
        "outputId": "90cc0633-36a4-456e-9f90-75661cf7df67",
        "colab": {
          "base_uri": "https://localhost:8080/",
          "height": 405
        }
      },
      "source": [
        "# feautre selection\n",
        "mod = LinearSVC(random_state=0)\n",
        "features, feautre_list = feature_selection(mod,X_train_res, y_train_res, [socio,credit,alt])\n",
        "X_train_res = X_train_res[:,features]\n",
        "X_test = X_test[:,features]"
      ],
      "execution_count": 0,
      "outputs": [
        {
          "output_type": "display_data",
          "data": {
            "image/png": "[encoded data removed]",
            "text/plain": [
              "<Figure size 432x288 with 1 Axes>"
            ]
          },
          "metadata": {
            "tags": []
          }
        },
        {
          "output_type": "stream",
          "text": [
            "Optimal number of features : 50\n",
            "The optimal features are:\n",
            "['property_status', 'highest_education', 'time_at_employer', 'loan_purpose', 'time_at_current_address', 'state', 'bank', 'marital_status', 'employment_status', 'gender', 'device_brand', 'sector', 'application_time', 'application_week', 'income', 'time_at_property', 'num_applications', 'age', 'total_accounts', 'open_accounts_by_date', 'closed_accounts_by_date', 'performing_loans', 'paid_loans', 'nonperforming_loans', 'lost_loans', 'missed_payments', 'competitor_count', 'banking_count', 'news_count', 'gambling_count', 'vpn_count', 'app_count', 'device_price', 'max_balance', 'min_balance', 'credit_transactions', 'max_credit', 'min_credit', 'debit_transactions', 'max_debit', 'min_debit', 'insufficient_funds', 'succesful_payments', 'max_succesful_loan_payment', 'min_succesful_loan_payment', 'unsuccesful_payments', 'max_unsuccesful_loan_payment', 'min_unsuccesful_loan_payment', 'rejected_loans', 'max_loan_amount']\n",
            "The omitted features are:\n",
            "[]\n"
          ],
          "name": "stdout"
        }
      ]
    },
    {
      "cell_type": "markdown",
      "metadata": {
        "id": "s9n1cgjvLBZr",
        "colab_type": "text"
      },
      "source": [
        ""
      ]
    },
    {
      "cell_type": "markdown",
      "metadata": {
        "id": "qR4Nc7QYA3Rb",
        "colab_type": "text"
      },
      "source": [
        ""
      ]
    },
    {
      "cell_type": "markdown",
      "metadata": {
        "id": "SeyQ2ff-__Lk",
        "colab_type": "text"
      },
      "source": [
        "# All Models and Paramter Tuning"
      ]
    },
    {
      "cell_type": "markdown",
      "metadata": {
        "id": "JHYO2rqpvs5C",
        "colab_type": "text"
      },
      "source": [
        "### Confusion Matrix Function"
      ]
    },
    {
      "cell_type": "code",
      "metadata": {
        "id": "-b6yZSf_vs5D",
        "colab_type": "code",
        "colab": {}
      },
      "source": [
        "def plot_confusion_matrix(cm, classes, normalize=False, cmap=plt.cm.Blues):\n",
        "    if normalize:\n",
        "        cm = cm.astype('float') / cm.sum(axis=1)[:, np.newaxis]\n",
        "        title='Normalized confusion matrix'\n",
        "    else:\n",
        "        title='Confusion matrix'\n",
        "\n",
        "    plt.imshow(cm, interpolation='nearest', cmap=cmap)\n",
        "    plt.title(title)\n",
        "    plt.colorbar()\n",
        "    tick_marks = np.arange(len(classes))\n",
        "    plt.xticks(tick_marks, classes, rotation=45)\n",
        "    plt.yticks(tick_marks, classes)\n",
        "\n",
        "    fmt = '.2f' if normalize else 'd'\n",
        "    thresh = cm.max() / 2.\n",
        "    for i, j in itertools.product(range(cm.shape[0]), range(cm.shape[1])):\n",
        "        plt.text(j, i, format(cm[i, j], fmt),\n",
        "                 horizontalalignment=\"center\",\n",
        "                 color=\"white\" if cm[i, j] > thresh else \"black\")\n",
        "\n",
        "    plt.tight_layout()\n",
        "    plt.ylabel('True label')\n",
        "    plt.xlabel('Predicted label')\n",
        "    plt.show()"
      ],
      "execution_count": 0,
      "outputs": []
    },
    {
      "cell_type": "markdown",
      "metadata": {
        "id": "6XVBEVY8vs5F",
        "colab_type": "text"
      },
      "source": [
        "### Model Performance Fucntion"
      ]
    },
    {
      "cell_type": "code",
      "metadata": {
        "id": "2kHtafiPvs5G",
        "colab_type": "code",
        "colab": {}
      },
      "source": [
        "classes = ['Repaid', 'Defaulted']"
      ],
      "execution_count": 0,
      "outputs": []
    },
    {
      "cell_type": "code",
      "metadata": {
        "id": "6N3DalU7vs5J",
        "colab_type": "code",
        "colab": {}
      },
      "source": [
        "def Performance(Model,Y,X):\n",
        "    target_names = ['Repaid', 'Defaulted']\n",
        "    # Perforamnce of the model\n",
        "    print(\"Accuracy\")\n",
        "    print(accuracy_score(Y,Model.predict(X).round()).round(4))\n",
        "    print(\" \")\n",
        "    \n",
        "    print ('Classification Report:')\n",
        "    print(classification_report(Y,Model.predict(X).round()))\n",
        "    print(\" \")\n",
        "    \n",
        "    print('Confusion Matrix')\n",
        "    cm = confusion_matrix(Y,Model.predict(X).round())\n",
        "    plot_confusion_matrix(cm, classes, )\n",
        "    \n",
        "    fpr, tpr, _ = roc_curve(Y,Model.predict(X))\n",
        "    AUC  = auc(fpr, tpr)\n",
        "    print ('the AUC is : %0.4f' %  AUC)\n",
        "    plt.figure()\n",
        "    plt.plot(fpr, tpr, label='ROC curve (area = %0.4f)' % AUC)\n",
        "    plt.plot([0, 1], [0, 1], 'k--')\n",
        "    plt.xlim([0.0, 1.0])\n",
        "    plt.ylim([0.0, 1.05])\n",
        "    plt.xlabel('False Positive Rate')\n",
        "    plt.ylabel('True Positive Rate')\n",
        "    plt.title('ROC Curve')\n",
        "    plt.legend(loc=\"lower right\")\n",
        "    plt.show()"
      ],
      "execution_count": 0,
      "outputs": []
    },
    {
      "cell_type": "markdown",
      "metadata": {
        "id": "QbWB_uh5vs5L",
        "colab_type": "text"
      },
      "source": [
        "### Logistic Regression Model Training"
      ]
    },
    {
      "cell_type": "code",
      "metadata": {
        "id": "0M6bx_tsvs5M",
        "colab_type": "code",
        "colab": {}
      },
      "source": [
        "lr_grid = {    \n",
        "            \"dual\" : [True],\n",
        "            \"max_iter\" : [500],\n",
        "}"
      ],
      "execution_count": 0,
      "outputs": []
    },
    {
      "cell_type": "code",
      "metadata": {
        "id": "Q7mqBVygvs5O",
        "colab_type": "code",
        "colab": {}
      },
      "source": [
        "def build_lr_classifier(grid, cv, Y, X):\n",
        "    lr=LogisticRegression()\n",
        "    grid_search = GridSearchCV(lr, grid, n_jobs=-1, cv=cv, verbose=10,scoring='roc_auc')\n",
        "    grid_search.fit(X, Y)\n",
        "    return grid_search"
      ],
      "execution_count": 0,
      "outputs": []
    },
    {
      "cell_type": "code",
      "metadata": {
        "id": "idLrGsGWvs5Q",
        "colab_type": "code",
        "outputId": "4eaf6961-fac8-4639-f067-8eb26614db6b",
        "colab": {
          "base_uri": "https://localhost:8080/",
          "height": 119
        }
      },
      "source": [
        "lr_model = build_lr_classifier(lr_grid,5,y_train_res, X_train_res)"
      ],
      "execution_count": 0,
      "outputs": [
        {
          "output_type": "stream",
          "text": [
            "Fitting 5 folds for each of 1 candidates, totalling 5 fits\n"
          ],
          "name": "stdout"
        },
        {
          "output_type": "stream",
          "text": [
            "[Parallel(n_jobs=-1)]: Using backend LokyBackend with 2 concurrent workers.\n",
            "[Parallel(n_jobs=-1)]: Done   1 tasks      | elapsed:    3.3s\n",
            "[Parallel(n_jobs=-1)]: Done   3 out of   5 | elapsed:    5.6s remaining:    3.8s\n",
            "[Parallel(n_jobs=-1)]: Done   5 out of   5 | elapsed:    7.6s remaining:    0.0s\n",
            "[Parallel(n_jobs=-1)]: Done   5 out of   5 | elapsed:    7.6s finished\n"
          ],
          "name": "stderr"
        }
      ]
    },
    {
      "cell_type": "code",
      "metadata": {
        "id": "Z8qEhaPcvs5R",
        "colab_type": "code",
        "outputId": "f3fd6070-b948-492d-8de0-cd71c602abe3",
        "colab": {
          "base_uri": "https://localhost:8080/",
          "height": 1000
        }
      },
      "source": [
        "print(\"The best paramters\")\n",
        "print(lr_model.best_params_)\n",
        "print(\" \")\n",
        "print(\"The training performance of the model\")\n",
        "Performance(Model=lr_model,Y=y_train_res,X=X_train_res)\n",
        "print(\" \")\n",
        "print(\"The testing performance of the model\")\n",
        "Performance(Model=lr_model,Y=y_test,X=X_test)"
      ],
      "execution_count": 0,
      "outputs": [
        {
          "output_type": "stream",
          "text": [
            "The best paramters\n",
            "{'dual': True, 'max_iter': 500}\n",
            " \n",
            "The training performance of the model\n",
            "Accuracy\n",
            "0.6297\n",
            " \n",
            "Classification Report:\n",
            "              precision    recall  f1-score   support\n",
            "\n",
            "         0.0       0.63      0.62      0.63     38392\n",
            "         1.0       0.63      0.63      0.63     38392\n",
            "\n",
            "    accuracy                           0.63     76784\n",
            "   macro avg       0.63      0.63      0.63     76784\n",
            "weighted avg       0.63      0.63      0.63     76784\n",
            "\n",
            " \n",
            "Confusion Matrix\n"
          ],
          "name": "stdout"
        },
        {
          "output_type": "display_data",
          "data": {
            "image/png": "[encoded data removed]",
            "text/plain": [
              "<Figure size 432x288 with 2 Axes>"
            ]
          },
          "metadata": {
            "tags": []
          }
        },
        {
          "output_type": "stream",
          "text": [
            "the AUC is : 0.6297\n"
          ],
          "name": "stdout"
        },
        {
          "output_type": "display_data",
          "data": {
            "image/png": "[encoded data removed]",
            "text/plain": [
              "<Figure size 432x288 with 1 Axes>"
            ]
          },
          "metadata": {
            "tags": []
          }
        },
        {
          "output_type": "stream",
          "text": [
            " \n",
            "The testing performance of the model\n",
            "Accuracy\n",
            "0.6353\n",
            " \n",
            "Classification Report:\n",
            "              precision    recall  f1-score   support\n",
            "\n",
            "         0.0       0.87      0.64      0.73      9568\n",
            "         1.0       0.32      0.63      0.42      2567\n",
            "\n",
            "    accuracy                           0.64     12135\n",
            "   macro avg       0.59      0.63      0.58     12135\n",
            "weighted avg       0.75      0.64      0.67     12135\n",
            "\n",
            " \n",
            "Confusion Matrix\n"
          ],
          "name": "stdout"
        },
        {
          "output_type": "display_data",
          "data": {
            "image/png": "[encoded data removed]",
            "text/plain": [
              "<Figure size 432x288 with 2 Axes>"
            ]
          },
          "metadata": {
            "tags": []
          }
        },
        {
          "output_type": "stream",
          "text": [
            "the AUC is : 0.6339\n"
          ],
          "name": "stdout"
        },
        {
          "output_type": "display_data",
          "data": {
            "image/png": "[encoded data removed]",
            "text/plain": [
              "<Figure size 432x288 with 1 Axes>"
            ]
          },
          "metadata": {
            "tags": []
          }
        }
      ]
    },
    {
      "cell_type": "markdown",
      "metadata": {
        "id": "m2HxdFRIvs5T",
        "colab_type": "text"
      },
      "source": [
        "### Random Forest Model Training"
      ]
    },
    {
      "cell_type": "code",
      "metadata": {
        "id": "rTQeUQhPvs5U",
        "colab_type": "code",
        "colab": {}
      },
      "source": [
        "rf_grid = {    \n",
        "            \"n_estimators\"      : [50,100,500],\n",
        "            \"max_features\"      : [0.6,0.7,0.8],\n",
        "            \"max_depth\"         : [10,20,50],\n",
        "            \"min_samples_split\" : [0.1,0.15,0.2],\n",
        "            \"class_weight\"      : [{1:1.35}],\n",
        "            \"oob_score\"         : [True, False],\n",
        "            \"bootstrap\"         : [True, False],\n",
        "            \"criterion\"         : [\"gini\"]\n",
        "}\n"
      ],
      "execution_count": 0,
      "outputs": []
    },
    {
      "cell_type": "code",
      "metadata": {
        "id": "y1sUG__7vs5W",
        "colab_type": "code",
        "colab": {}
      },
      "source": [
        "def build_rf_classifier(grid, cv, Y, X):\n",
        "    RF=RandomForestClassifier()\n",
        "    grid_search = GridSearchCV(RF, grid, n_jobs=-1, cv=cv, verbose=10, scoring='roc_auc')\n",
        "    grid_search.fit(X, Y)\n",
        "    return grid_search"
      ],
      "execution_count": 0,
      "outputs": []
    },
    {
      "cell_type": "code",
      "metadata": {
        "id": "BfprOlOLvs5Z",
        "colab_type": "code",
        "outputId": "79d7342a-1b71-4d5d-fe84-8c72b0847d9e",
        "colab": {
          "base_uri": "https://localhost:8080/",
          "height": 119
        }
      },
      "source": [
        "rf_model = build_rf_classifier(rf_grid,5,y_train_res,X_train_res)"
      ],
      "execution_count": 0,
      "outputs": [
        {
          "output_type": "stream",
          "text": [
            "Fitting 5 folds for each of 1 candidates, totalling 5 fits\n"
          ],
          "name": "stdout"
        },
        {
          "output_type": "stream",
          "text": [
            "[Parallel(n_jobs=-1)]: Using backend LokyBackend with 2 concurrent workers.\n",
            "[Parallel(n_jobs=-1)]: Done   1 tasks      | elapsed:  1.0min\n",
            "[Parallel(n_jobs=-1)]: Done   3 out of   5 | elapsed:  2.0min remaining:  1.4min\n",
            "[Parallel(n_jobs=-1)]: Done   5 out of   5 | elapsed:  2.8min remaining:    0.0s\n",
            "[Parallel(n_jobs=-1)]: Done   5 out of   5 | elapsed:  2.8min finished\n"
          ],
          "name": "stderr"
        }
      ]
    },
    {
      "cell_type": "code",
      "metadata": {
        "id": "zhKlGG8Kvs5a",
        "colab_type": "code",
        "outputId": "7ccc25ba-138b-4c85-8e52-bf0e76626f10",
        "colab": {
          "base_uri": "https://localhost:8080/",
          "height": 1000
        }
      },
      "source": [
        "print(\"The best paramters\")\n",
        "print(rf_model.best_params_)\n",
        "print(\" \")\n",
        "print(\"The training performance of the model\")\n",
        "Performance(Model=rf_model,Y=y_train_res,X=X_train_res)\n",
        "print(\" \")\n",
        "print(\"The testing performance of the model\")\n",
        "Performance(Model=rf_model,Y=y_test,X=X_test)"
      ],
      "execution_count": 0,
      "outputs": [
        {
          "output_type": "stream",
          "text": [
            "The best paramters\n",
            "{'bootstrap': True, 'class_weight': {1: 1.35}, 'criterion': 'gini', 'max_depth': 50, 'max_features': 0.8, 'min_samples_split': 0.1, 'n_estimators': 100, 'oob_score': True}\n",
            " \n",
            "The training performance of the model\n",
            "Accuracy\n",
            "0.7964\n",
            " \n",
            "Classification Report:\n",
            "              precision    recall  f1-score   support\n",
            "\n",
            "         0.0       0.81      0.77      0.79     38392\n",
            "         1.0       0.78      0.82      0.80     38392\n",
            "\n",
            "    accuracy                           0.80     76784\n",
            "   macro avg       0.80      0.80      0.80     76784\n",
            "weighted avg       0.80      0.80      0.80     76784\n",
            "\n",
            " \n",
            "Confusion Matrix\n"
          ],
          "name": "stdout"
        },
        {
          "output_type": "display_data",
          "data": {
            "image/png": "[encoded data removed]",
            "text/plain": [
              "<Figure size 432x288 with 2 Axes>"
            ]
          },
          "metadata": {
            "tags": []
          }
        },
        {
          "output_type": "stream",
          "text": [
            "the AUC is : 0.7964\n"
          ],
          "name": "stdout"
        },
        {
          "output_type": "display_data",
          "data": {
            "image/png": "[encoded data removed]",
            "text/plain": [
              "<Figure size 432x288 with 1 Axes>"
            ]
          },
          "metadata": {
            "tags": []
          }
        },
        {
          "output_type": "stream",
          "text": [
            " \n",
            "The testing performance of the model\n",
            "Accuracy\n",
            "0.7267\n",
            " \n",
            "Classification Report:\n",
            "              precision    recall  f1-score   support\n",
            "\n",
            "         0.0       0.86      0.78      0.82      9568\n",
            "         1.0       0.39      0.52      0.45      2567\n",
            "\n",
            "    accuracy                           0.73     12135\n",
            "   macro avg       0.63      0.65      0.63     12135\n",
            "weighted avg       0.76      0.73      0.74     12135\n",
            "\n",
            " \n",
            "Confusion Matrix\n"
          ],
          "name": "stdout"
        },
        {
          "output_type": "display_data",
          "data": {
            "image/png": "[encoded data removed]",
            "text/plain": [
              "<Figure size 432x288 with 2 Axes>"
            ]
          },
          "metadata": {
            "tags": []
          }
        },
        {
          "output_type": "stream",
          "text": [
            "the AUC is : 0.6525\n"
          ],
          "name": "stdout"
        },
        {
          "output_type": "display_data",
          "data": {
            "image/png": "[encoded data removed]",
            "text/plain": [
              "<Figure size 432x288 with 1 Axes>"
            ]
          },
          "metadata": {
            "tags": []
          }
        }
      ]
    },
    {
      "cell_type": "markdown",
      "metadata": {
        "id": "pdLvSKBavs5c",
        "colab_type": "text"
      },
      "source": [
        "### XGBoost Modeling"
      ]
    },
    {
      "cell_type": "code",
      "metadata": {
        "id": "xvtItcr1vs5d",
        "colab_type": "code",
        "colab": {}
      },
      "source": [
        "xgb_grid = params = {\n",
        "                      \"n_estimators\"      : [50,100,500],\n",
        "                      'min_child_weight'  : [1,5,10],\n",
        "                      'gamma'             : [0.2,0.5,0.8],\n",
        "                      'subsample'         : [0.6,0.7,0.8],\n",
        "                      'colsample_bytree'  : [0.6,0.7,0.8],\n",
        "                      'max_depth'         : [10,20,50],\n",
        "                      \"learning_rate\"     : [0.015,0.03, 0.05],\n",
        "                      \"objective\"         : [\"binary:logistic\"],\n",
        "                      \"eval_metric\"       : [\"auc\"],\n",
        "                      \"scale_pos_weight\"  : [1,1.5,2,2.5]\n",
        "  }"
      ],
      "execution_count": 0,
      "outputs": []
    },
    {
      "cell_type": "code",
      "metadata": {
        "id": "K7FEIMNCvs5f",
        "colab_type": "code",
        "colab": {}
      },
      "source": [
        "def build_xgb_classifier(grid, cv, Y, X):\n",
        "    xgb=XGBClassifier()\n",
        "    grid_search = GridSearchCV(xgb, grid, n_jobs=-1, cv=cv, verbose=10, scoring='roc_auc')\n",
        "    grid_search.fit(Y, X)\n",
        "    return grid_search"
      ],
      "execution_count": 0,
      "outputs": []
    },
    {
      "cell_type": "markdown",
      "metadata": {
        "id": "qAeIZLvXmjFE",
        "colab_type": "text"
      },
      "source": [
        ""
      ]
    },
    {
      "cell_type": "code",
      "metadata": {
        "id": "zUEtyB_gvs5g",
        "colab_type": "code",
        "outputId": "b71a5a96-836b-4589-df79-8350d29b7473",
        "colab": {
          "base_uri": "https://localhost:8080/",
          "height": 102
        }
      },
      "source": [
        "xgb_model = build_xgb_classifier(xgb_grid,5,X_train_res,y_train_res)"
      ],
      "execution_count": 0,
      "outputs": [
        {
          "output_type": "stream",
          "text": [
            "Fitting 5 folds for each of 2 candidates, totalling 10 fits\n"
          ],
          "name": "stdout"
        },
        {
          "output_type": "stream",
          "text": [
            "[Parallel(n_jobs=-1)]: Using backend LokyBackend with 2 concurrent workers.\n",
            "[Parallel(n_jobs=-1)]: Done   1 tasks      | elapsed:  1.1min\n",
            "[Parallel(n_jobs=-1)]: Done   4 tasks      | elapsed:  2.1min\n",
            "[Parallel(n_jobs=-1)]: Done  10 out of  10 | elapsed:  5.3min finished\n"
          ],
          "name": "stderr"
        }
      ]
    },
    {
      "cell_type": "code",
      "metadata": {
        "id": "_nGuY_D3vs5j",
        "colab_type": "code",
        "outputId": "5c47817f-0460-4b12-c8d1-9ebf639675a8",
        "colab": {
          "base_uri": "https://localhost:8080/",
          "height": 1000
        }
      },
      "source": [
        "print(\"The best paramters\")\n",
        "print(xgb_model.best_params_)\n",
        "print(\" \")\n",
        "print(\"The training performance of the model\")\n",
        "Performance(Model=xgb_model,Y=y_train_res,X=X_train_res)\n",
        "print(\" \")\n",
        "print(\"The testing performance of the model\")\n",
        "Performance(Model=xgb_model,Y=y_test,X=np.array(X_test))"
      ],
      "execution_count": 0,
      "outputs": [
        {
          "output_type": "stream",
          "text": [
            "The best paramters\n",
            "{'colsample_bytree': 0.8, 'eval_metric': 'auc', 'gamma': 0.5, 'learning_rate': 0.05, 'max_depth': 10, 'min_child_weight': 5, 'n_estimators': 100, 'objective': 'binary:logistic', 'scale_pos_weight': 3, 'subsample': 0.8}\n",
            " \n",
            "The training performance of the model\n",
            "Accuracy\n",
            "0.9155\n",
            " \n",
            "Classification Report:\n",
            "              precision    recall  f1-score   support\n",
            "\n",
            "         0.0       0.95      0.88      0.91     38392\n",
            "         1.0       0.89      0.95      0.92     38392\n",
            "\n",
            "    accuracy                           0.92     76784\n",
            "   macro avg       0.92      0.92      0.92     76784\n",
            "weighted avg       0.92      0.92      0.92     76784\n",
            "\n",
            " \n",
            "Confusion Matrix\n"
          ],
          "name": "stdout"
        },
        {
          "output_type": "display_data",
          "data": {
            "image/png": "[encoded data removed]",
            "text/plain": [
              "<Figure size 432x288 with 2 Axes>"
            ]
          },
          "metadata": {
            "tags": []
          }
        },
        {
          "output_type": "stream",
          "text": [
            "the AUC is : 0.9155\n"
          ],
          "name": "stdout"
        },
        {
          "output_type": "display_data",
          "data": {
            "image/png": "[encoded data removed]",
            "text/plain": [
              "<Figure size 432x288 with 1 Axes>"
            ]
          },
          "metadata": {
            "tags": []
          }
        },
        {
          "output_type": "stream",
          "text": [
            " \n",
            "The testing performance of the model\n",
            "Accuracy\n",
            "0.8083\n",
            " \n",
            "Classification Report:\n",
            "              precision    recall  f1-score   support\n",
            "\n",
            "         0.0       0.91      0.84      0.87      9568\n",
            "         1.0       0.54      0.67      0.60      2567\n",
            "\n",
            "    accuracy                           0.81     12135\n",
            "   macro avg       0.72      0.76      0.74     12135\n",
            "weighted avg       0.83      0.81      0.82     12135\n",
            "\n",
            " \n",
            "Confusion Matrix\n"
          ],
          "name": "stdout"
        },
        {
          "output_type": "display_data",
          "data": {
            "image/png": "[encoded data removed]",
            "text/plain": [
              "<Figure size 432x288 with 2 Axes>"
            ]
          },
          "metadata": {
            "tags": []
          }
        },
        {
          "output_type": "stream",
          "text": [
            "the AUC is : 0.7592\n"
          ],
          "name": "stdout"
        },
        {
          "output_type": "display_data",
          "data": {
            "image/png": "[encoded data removed]",
            "text/plain": [
              "<Figure size 432x288 with 1 Axes>"
            ]
          },
          "metadata": {
            "tags": []
          }
        }
      ]
    },
    {
      "cell_type": "markdown",
      "metadata": {
        "id": "5WpB3_fkp07b",
        "colab_type": "text"
      },
      "source": [
        "### Feature Importance for Best Performing XGBoost model"
      ]
    },
    {
      "cell_type": "code",
      "metadata": {
        "id": "bgZqXtGyBgYF",
        "colab_type": "code",
        "colab": {}
      },
      "source": [
        "# mod = xgb.train({'colsample_bytree': 0.6, 'eta': 0.1, 'eval_metric': 'auc', 'gamma': 0.5, 'learning_rate': 0.3, 'max_depth': 5, 'min_child_weight': 5, 'objective': 'binary:logistic', 'scale_pos_weight': 2.7, 'subsample': 0.5},\n",
        "#               xgb.DMatrix(X_train_res, label=y_train_res),\n",
        "#               100\n",
        "# )\n",
        "  \n",
        "# explainer = shap.TreeExplainer(mod)\n",
        "# shap_values = explainer.shap_values(X_train_res)\n",
        "# shap.summary_plot(shap_values,features=X_train_res,feature_names=feautre_list,max_display=10)"
      ],
      "execution_count": 0,
      "outputs": []
    },
    {
      "cell_type": "markdown",
      "metadata": {
        "id": "saQlPrsFvs5k",
        "colab_type": "text"
      },
      "source": [
        "### Neural Network "
      ]
    },
    {
      "cell_type": "code",
      "metadata": {
        "id": "RI_zrkasvs5l",
        "colab_type": "code",
        "colab": {}
      },
      "source": [
        "nn_grid = {\n",
        "            'learn_rate': [0.015, 0.03, 0.05],\n",
        "            'epochs': [50,100,500],\n",
        "            'batch_size': [2,5,10],\n",
        "            'dropout_rate': [0.1,0.20.3],\n",
        "            'neurons': [10,15,0],\n",
        "            'activation': ['relu', 'sigmoid']\n",
        "}"
      ],
      "execution_count": 0,
      "outputs": []
    },
    {
      "cell_type": "code",
      "metadata": {
        "id": "VFVKytI1vs5m",
        "colab_type": "code",
        "colab": {}
      },
      "source": [
        "def nn_architecture(learn_rate=0.05,dropout_rate=0.15,neurons=10, activation='relu'):\n",
        "\n",
        "    # create model\n",
        "    model = Sequential()\n",
        "\n",
        "    # add input layer\n",
        "    model.add(Dense(neurons,\n",
        "                    input_dim=X_train_res.shape[1],\n",
        "                    activation=activation,\n",
        "                    kernel_initializer='normal'\n",
        "                    )\n",
        "    )\n",
        "    # add drop out rate\n",
        "    model.add(Dropout(dropout_rate)\n",
        "    )\n",
        "\n",
        "    # add input layer\n",
        "    model.add(Dense(5,\n",
        "                    activation=activation,\n",
        "                    kernel_initializer='normal'\n",
        "                    )\n",
        "    )\n",
        "    # add drop out rate\n",
        "    model.add(Dropout(dropout_rate)\n",
        "    )\n",
        "\n",
        "    # output layer\n",
        "    model.add(Dense(1,\n",
        "                    activation='sigmoid'\n",
        "                    )\n",
        "    )\n",
        "    # compile model\n",
        "    model.compile(optimizer=SGD(learn_rate),\n",
        "                  loss='binary_crossentropy', \n",
        "                  metrics=['accuracy']\n",
        "    )\n",
        "\n",
        "    # fit model\n",
        "    return model"
      ],
      "execution_count": 0,
      "outputs": []
    },
    {
      "cell_type": "code",
      "metadata": {
        "id": "YGRZV73Fvs5o",
        "colab_type": "code",
        "colab": {}
      },
      "source": [
        "def build_nn_classifier(grid, cv, Y, X):\n",
        "  nn = KerasClassifier(build_fn=nn_architecture, verbose=2, batch_size=10, epochs=1000)\n",
        "  nn = GridSearchCV(nn,grid,n_jobs=-1,cv=cv,verbose=10)\n",
        "  grid_search.fit(X, Y)\n",
        "  return nn"
      ],
      "execution_count": 0,
      "outputs": []
    },
    {
      "cell_type": "code",
      "metadata": {
        "colab_type": "code",
        "id": "CwIljaWrGYu_",
        "outputId": "b859a59e-633e-42ad-d2c5-6b2b1669062c",
        "colab": {
          "base_uri": "https://localhost:8080/",
          "height": 1000
        }
      },
      "source": [
        "nn_model = build_nn_classifier(nn_grid,5,y_train_res, X_train_res)"
      ],
      "execution_count": 0,
      "outputs": [
        {
          "output_type": "stream",
          "text": [
            "Epoch 1/100\n",
            " - 9s - loss: 0.6899 - acc: 0.5252\n",
            "Epoch 2/100\n",
            " - 9s - loss: 0.6766 - acc: 0.5744\n",
            "Epoch 3/100\n",
            " - 9s - loss: 0.6707 - acc: 0.5841\n",
            "Epoch 4/100\n",
            " - 9s - loss: 0.6663 - acc: 0.5914\n",
            "Epoch 5/100\n",
            " - 9s - loss: 0.6632 - acc: 0.5937\n",
            "Epoch 6/100\n",
            " - 9s - loss: 0.6612 - acc: 0.5972\n",
            "Epoch 7/100\n",
            " - 9s - loss: 0.6594 - acc: 0.5992\n",
            "Epoch 8/100\n",
            " - 9s - loss: 0.6577 - acc: 0.6017\n",
            "Epoch 9/100\n",
            " - 9s - loss: 0.6568 - acc: 0.6045\n",
            "Epoch 10/100\n",
            " - 9s - loss: 0.6558 - acc: 0.6070\n",
            "Epoch 11/100\n",
            " - 9s - loss: 0.6538 - acc: 0.6100\n",
            "Epoch 12/100\n",
            " - 9s - loss: 0.6522 - acc: 0.6103\n",
            "Epoch 13/100\n",
            " - 9s - loss: 0.6522 - acc: 0.6137\n",
            "Epoch 14/100\n",
            " - 9s - loss: 0.6508 - acc: 0.6162\n",
            "Epoch 15/100\n",
            " - 9s - loss: 0.6492 - acc: 0.6152\n",
            "Epoch 16/100\n",
            " - 9s - loss: 0.6491 - acc: 0.6183\n",
            "Epoch 17/100\n",
            " - 9s - loss: 0.6469 - acc: 0.6208\n",
            "Epoch 18/100\n",
            " - 9s - loss: 0.6461 - acc: 0.6219\n",
            "Epoch 19/100\n",
            " - 9s - loss: 0.6455 - acc: 0.6231\n",
            "Epoch 20/100\n",
            " - 9s - loss: 0.6441 - acc: 0.6251\n",
            "Epoch 21/100\n",
            " - 9s - loss: 0.6433 - acc: 0.6265\n",
            "Epoch 22/100\n",
            " - 9s - loss: 0.6425 - acc: 0.6258\n",
            "Epoch 23/100\n",
            " - 9s - loss: 0.6408 - acc: 0.6273\n",
            "Epoch 24/100\n",
            " - 9s - loss: 0.6391 - acc: 0.6303\n",
            "Epoch 25/100\n",
            " - 9s - loss: 0.6374 - acc: 0.6313\n",
            "Epoch 26/100\n",
            " - 9s - loss: 0.6367 - acc: 0.6305\n",
            "Epoch 27/100\n",
            " - 9s - loss: 0.6369 - acc: 0.6335\n",
            "Epoch 28/100\n",
            " - 9s - loss: 0.6342 - acc: 0.6362\n",
            "Epoch 29/100\n",
            " - 9s - loss: 0.6347 - acc: 0.6349\n",
            "Epoch 30/100\n",
            " - 9s - loss: 0.6326 - acc: 0.6384\n",
            "Epoch 31/100\n",
            " - 9s - loss: 0.6316 - acc: 0.6388\n",
            "Epoch 32/100\n",
            " - 9s - loss: 0.6334 - acc: 0.6378\n",
            "Epoch 33/100\n",
            " - 9s - loss: 0.6323 - acc: 0.6394\n",
            "Epoch 34/100\n",
            " - 9s - loss: 0.6315 - acc: 0.6393\n",
            "Epoch 35/100\n",
            " - 9s - loss: 0.6287 - acc: 0.6423\n",
            "Epoch 36/100\n",
            " - 9s - loss: 0.6287 - acc: 0.6439\n",
            "Epoch 37/100\n",
            " - 9s - loss: 0.6284 - acc: 0.6438\n",
            "Epoch 38/100\n",
            " - 9s - loss: 0.6283 - acc: 0.6442\n",
            "Epoch 39/100\n",
            " - 9s - loss: 0.6252 - acc: 0.6452\n",
            "Epoch 40/100\n",
            " - 9s - loss: 0.6244 - acc: 0.6458\n",
            "Epoch 41/100\n",
            " - 9s - loss: 0.6232 - acc: 0.6485\n",
            "Epoch 42/100\n",
            " - 9s - loss: 0.6228 - acc: 0.6504\n",
            "Epoch 43/100\n",
            " - 9s - loss: 0.6209 - acc: 0.6523\n",
            "Epoch 44/100\n",
            " - 9s - loss: 0.6223 - acc: 0.6500\n",
            "Epoch 45/100\n",
            " - 9s - loss: 0.6215 - acc: 0.6505\n",
            "Epoch 46/100\n",
            " - 9s - loss: 0.6195 - acc: 0.6533\n",
            "Epoch 47/100\n",
            " - 9s - loss: 0.6188 - acc: 0.6552\n",
            "Epoch 48/100\n",
            " - 9s - loss: 0.6177 - acc: 0.6536\n",
            "Epoch 49/100\n",
            " - 9s - loss: 0.6155 - acc: 0.6558\n",
            "Epoch 50/100\n",
            " - 9s - loss: 0.6166 - acc: 0.6557\n",
            "Epoch 51/100\n",
            " - 9s - loss: 0.6202 - acc: 0.6512\n",
            "Epoch 52/100\n",
            " - 9s - loss: 0.6300 - acc: 0.6389\n",
            "Epoch 53/100\n",
            " - 9s - loss: 0.6287 - acc: 0.6407\n",
            "Epoch 54/100\n",
            " - 9s - loss: 0.6282 - acc: 0.6416\n",
            "Epoch 55/100\n",
            " - 9s - loss: 0.6269 - acc: 0.6433\n",
            "Epoch 56/100\n",
            " - 9s - loss: 0.6268 - acc: 0.6440\n",
            "Epoch 57/100\n",
            " - 9s - loss: 0.6264 - acc: 0.6432\n",
            "Epoch 58/100\n",
            " - 9s - loss: 0.6235 - acc: 0.6459\n",
            "Epoch 59/100\n",
            " - 9s - loss: 0.6240 - acc: 0.6448\n",
            "Epoch 60/100\n",
            " - 9s - loss: 0.6213 - acc: 0.6471\n",
            "Epoch 61/100\n",
            " - 9s - loss: 0.6231 - acc: 0.6468\n",
            "Epoch 62/100\n",
            " - 9s - loss: 0.6235 - acc: 0.6442\n",
            "Epoch 63/100\n",
            " - 9s - loss: 0.6201 - acc: 0.6485\n",
            "Epoch 64/100\n",
            " - 9s - loss: 0.6222 - acc: 0.6457\n",
            "Epoch 65/100\n",
            " - 9s - loss: 0.6202 - acc: 0.6477\n",
            "Epoch 66/100\n",
            " - 9s - loss: 0.6200 - acc: 0.6505\n",
            "Epoch 67/100\n",
            " - 9s - loss: 0.6185 - acc: 0.6499\n",
            "Epoch 68/100\n",
            " - 9s - loss: 0.6177 - acc: 0.6512\n",
            "Epoch 69/100\n",
            " - 9s - loss: 0.6199 - acc: 0.6483\n",
            "Epoch 70/100\n",
            " - 9s - loss: 0.6223 - acc: 0.6452\n",
            "Epoch 71/100\n",
            " - 9s - loss: 0.6165 - acc: 0.6519\n",
            "Epoch 72/100\n",
            " - 10s - loss: 0.6176 - acc: 0.6502\n",
            "Epoch 73/100\n",
            " - 9s - loss: 0.6175 - acc: 0.6499\n",
            "Epoch 74/100\n",
            " - 9s - loss: 0.6167 - acc: 0.6516\n",
            "Epoch 75/100\n",
            " - 9s - loss: 0.6156 - acc: 0.6526\n",
            "Epoch 76/100\n",
            " - 9s - loss: 0.6160 - acc: 0.6530\n",
            "Epoch 77/100\n",
            " - 9s - loss: 0.6222 - acc: 0.6449\n",
            "Epoch 78/100\n",
            " - 9s - loss: 0.6153 - acc: 0.6550\n",
            "Epoch 79/100\n",
            " - 9s - loss: 0.6126 - acc: 0.6540\n",
            "Epoch 80/100\n",
            " - 9s - loss: 0.6146 - acc: 0.6524\n",
            "Epoch 81/100\n",
            " - 9s - loss: 0.6149 - acc: 0.6525\n",
            "Epoch 82/100\n",
            " - 9s - loss: 0.6160 - acc: 0.6521\n",
            "Epoch 83/100\n",
            " - 9s - loss: 0.6137 - acc: 0.6544\n",
            "Epoch 84/100\n",
            " - 9s - loss: 0.6142 - acc: 0.6541\n",
            "Epoch 85/100\n",
            " - 9s - loss: 0.6163 - acc: 0.6498\n",
            "Epoch 86/100\n",
            " - 9s - loss: 0.6168 - acc: 0.6501\n",
            "Epoch 87/100\n",
            " - 9s - loss: 0.6119 - acc: 0.6561\n",
            "Epoch 88/100\n",
            " - 9s - loss: 0.6125 - acc: 0.6557\n",
            "Epoch 89/100\n",
            " - 9s - loss: 0.6158 - acc: 0.6518\n",
            "Epoch 90/100\n",
            " - 9s - loss: 0.6123 - acc: 0.6545\n",
            "Epoch 91/100\n",
            " - 9s - loss: 0.6122 - acc: 0.6521\n",
            "Epoch 92/100\n",
            " - 9s - loss: 0.6112 - acc: 0.6556\n",
            "Epoch 93/100\n",
            " - 9s - loss: 0.6126 - acc: 0.6552\n",
            "Epoch 94/100\n",
            " - 9s - loss: 0.6115 - acc: 0.6538\n",
            "Epoch 95/100\n",
            " - 9s - loss: 0.6115 - acc: 0.6550\n",
            "Epoch 96/100\n",
            " - 9s - loss: 0.6145 - acc: 0.6520\n",
            "Epoch 97/100\n",
            " - 9s - loss: 0.6122 - acc: 0.6545\n",
            "Epoch 98/100\n",
            " - 9s - loss: 0.6114 - acc: 0.6555\n",
            "Epoch 99/100\n",
            " - 9s - loss: 0.6111 - acc: 0.6557\n",
            "Epoch 100/100\n",
            " - 9s - loss: 0.6101 - acc: 0.6557\n"
          ],
          "name": "stdout"
        }
      ]
    },
    {
      "cell_type": "code",
      "metadata": {
        "id": "2cTev7oo16Ap",
        "colab_type": "code",
        "outputId": "bfe36f3d-5676-4ad3-aa50-30247a9135e5",
        "colab": {
          "base_uri": "https://localhost:8080/",
          "height": 1000
        }
      },
      "source": [
        "print(\"The best paramters\")\n",
        "print(nn_model.best_params_)\n",
        "print(\" \")\n",
        "print(\"The training performance of the model\")\n",
        "Performance(Model=nn_model,Y=y_train_res,X=X_train_res)\n",
        "print(\" \")\n",
        "print(\"The testing performance of the model\")\n",
        "Performance(Model=nn_model,Y=y_test,X=np.array(X_test))"
      ],
      "execution_count": 0,
      "outputs": [
        {
          "output_type": "stream",
          "text": [
            " \n",
            "The training performance of the model\n",
            "Accuracy\n",
            "0.6897\n",
            " \n",
            "Classification Report:\n",
            "              precision    recall  f1-score   support\n",
            "\n",
            "         0.0       0.75      0.58      0.65     38392\n",
            "         1.0       0.65      0.80      0.72     38392\n",
            "\n",
            "    accuracy                           0.69     76784\n",
            "   macro avg       0.70      0.69      0.69     76784\n",
            "weighted avg       0.70      0.69      0.69     76784\n",
            "\n",
            " \n",
            "Confusion Matrix\n"
          ],
          "name": "stdout"
        },
        {
          "output_type": "display_data",
          "data": {
            "image/png": "[encoded data removed]",
            "text/plain": [
              "<Figure size 432x288 with 2 Axes>"
            ]
          },
          "metadata": {
            "tags": []
          }
        },
        {
          "output_type": "stream",
          "text": [
            "the AUC is : 0.6897\n"
          ],
          "name": "stdout"
        },
        {
          "output_type": "display_data",
          "data": {
            "image/png": "[encoded data removed]",
            "text/plain": [
              "<Figure size 432x288 with 1 Axes>"
            ]
          },
          "metadata": {
            "tags": []
          }
        },
        {
          "output_type": "stream",
          "text": [
            " \n",
            "The testing performance of the model\n",
            "Accuracy\n",
            "0.6162\n",
            " \n",
            "Classification Report:\n",
            "              precision    recall  f1-score   support\n",
            "\n",
            "         0.0       0.90      0.58      0.70      9568\n",
            "         1.0       0.33      0.76      0.46      2567\n",
            "\n",
            "    accuracy                           0.62     12135\n",
            "   macro avg       0.61      0.67      0.58     12135\n",
            "weighted avg       0.78      0.62      0.65     12135\n",
            "\n",
            " \n",
            "Confusion Matrix\n"
          ],
          "name": "stdout"
        },
        {
          "output_type": "display_data",
          "data": {
            "image/png": "[encoded data removed]",
            "text/plain": [
              "<Figure size 432x288 with 2 Axes>"
            ]
          },
          "metadata": {
            "tags": []
          }
        },
        {
          "output_type": "stream",
          "text": [
            "the AUC is : 0.6701\n"
          ],
          "name": "stdout"
        },
        {
          "output_type": "display_data",
          "data": {
            "image/png": "[encoded data removed]",
            "text/plain": [
              "<Figure size 432x288 with 1 Axes>"
            ]
          },
          "metadata": {
            "tags": []
          }
        }
      ]
    },
    {
      "cell_type": "markdown",
      "metadata": {
        "id": "l4h6gb9XqI-h",
        "colab_type": "text"
      },
      "source": [
        "# Mcnemar Function"
      ]
    },
    {
      "cell_type": "code",
      "metadata": {
        "id": "I-RkstgXqMb9",
        "colab_type": "code",
        "colab": {}
      },
      "source": [
        "def mcnemar_test(y, y_1, y_2):\n",
        "  \n",
        "  tb = mcnemar_table(y, \n",
        "                     y_1, \n",
        "                     y_2\n",
        "                     )\n",
        "  \n",
        "  chi2, p = mcnemar(tb, exact=True, corrected=True)\n",
        "  print('chi-squared:', chi2)\n",
        "  print(\" \")\n",
        "  print('p-value:', p)"
      ],
      "execution_count": 0,
      "outputs": []
    },
    {
      "cell_type": "code",
      "metadata": {
        "id": "Iw8W6C1NtIlB",
        "colab_type": "code",
        "outputId": "240a8ed8-d485-478c-f3be-5070e25a1f10",
        "colab": {
          "base_uri": "https://localhost:8080/",
          "height": 68
        }
      },
      "source": [
        "# lr vs nn\n",
        "mcnemar_test(y_test,lr_model.predict(X_test).round(), nn_model.predict(X_test)[:, 0].round())"
      ],
      "execution_count": 0,
      "outputs": [
        {
          "output_type": "stream",
          "text": [
            "chi-squared: 1123\n",
            " \n",
            "p-value: 3.755358124581476e-06\n"
          ],
          "name": "stdout"
        }
      ]
    },
    {
      "cell_type": "code",
      "metadata": {
        "id": "H-lEYvrcrvCq",
        "colab_type": "code",
        "outputId": "2a46a4ce-4fa1-4ab2-e619-abf0a44998f3",
        "colab": {
          "base_uri": "https://localhost:8080/",
          "height": 68
        }
      },
      "source": [
        "# rf vs nn\n",
        "mcnemar_test(y_test,rf_model.predict(X_test).round(), nn_model.predict(X_test)[:, 0].round())"
      ],
      "execution_count": 0,
      "outputs": [
        {
          "output_type": "stream",
          "text": [
            "chi-squared: 1854\n",
            " \n",
            "p-value: 3.710973736560783e-80\n"
          ],
          "name": "stdout"
        }
      ]
    },
    {
      "cell_type": "code",
      "metadata": {
        "id": "vbjzrCkbrynY",
        "colab_type": "code",
        "outputId": "9224770b-d23a-495c-9add-fb1d1960fb2e",
        "colab": {
          "base_uri": "https://localhost:8080/",
          "height": 68
        }
      },
      "source": [
        "# xgb vs nn\n",
        "mcnemar_test(y_test,xgb_model.predict(X_test).round(), nn_model.predict(X_test)[:, 0].round())"
      ],
      "execution_count": 0,
      "outputs": [
        {
          "output_type": "stream",
          "text": [
            "chi-squared: 754\n",
            " \n",
            "p-value: 0.0\n"
          ],
          "name": "stdout"
        }
      ]
    },
    {
      "cell_type": "code",
      "metadata": {
        "id": "WQE5qRr64VNC",
        "colab_type": "code",
        "outputId": "7974da27-84f6-4858-c6f6-1dba91c03516",
        "colab": {
          "base_uri": "https://localhost:8080/",
          "height": 68
        }
      },
      "source": [
        "# lr vs rf\n",
        "mcnemar_test(y_test,lr_model.predict(X_test).round(), rf_model.predict(X_test).round())"
      ],
      "execution_count": 0,
      "outputs": [
        {
          "output_type": "stream",
          "text": [
            "chi-squared: 1757\n",
            " \n",
            "p-value: 2.873582223772211e-60\n"
          ],
          "name": "stdout"
        }
      ]
    },
    {
      "cell_type": "code",
      "metadata": {
        "id": "Oky2L6TVr61h",
        "colab_type": "code",
        "outputId": "8bb566a8-d49e-47f6-89f2-cb4e29f6804e",
        "colab": {
          "base_uri": "https://localhost:8080/",
          "height": 68
        }
      },
      "source": [
        "# lr vs xgb\n",
        "mcnemar_test(y_test,lr_model.predict(X_test).round(), xgb_model.predict(X_test).round())"
      ],
      "execution_count": 0,
      "outputs": [
        {
          "output_type": "stream",
          "text": [
            "chi-squared: 662\n",
            " \n",
            "p-value: 1.2766778436701685e-302\n"
          ],
          "name": "stdout"
        }
      ]
    },
    {
      "cell_type": "code",
      "metadata": {
        "id": "gZ6BjP82r-vO",
        "colab_type": "code",
        "outputId": "f6a157c7-b4a5-42a1-f6d5-90b5e09845ec",
        "colab": {
          "base_uri": "https://localhost:8080/",
          "height": 68
        }
      },
      "source": [
        "# rf vs xgb\n",
        "mcnemar_test(y_test,rf_model.predict(X_test).round(), xgb_model.predict(X_test).round())"
      ],
      "execution_count": 0,
      "outputs": [
        {
          "output_type": "stream",
          "text": [
            "chi-squared: 903\n",
            " \n",
            "p-value: 7.30196725232962e-80\n"
          ],
          "name": "stdout"
        }
      ]
    }
  ]
}