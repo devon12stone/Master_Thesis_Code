{
  "nbformat": 4,
  "nbformat_minor": 0,
  "metadata": {
    "accelerator": "TPU",
    "colab": {
      "name": "data-processing-functions-for-thesis.ipynb",
      "provenance": [],
      "collapsed_sections": [],
      "machine_shape": "hm"
    },
    "kernelspec": {
      "name": "python3",
      "display_name": "Python 3"
    },
    "language_info": {
      "codemirror_mode": {
        "name": "ipython",
        "version": 3
      },
      "file_extension": ".py",
      "mimetype": "text/x-python",
      "name": "python",
      "nbconvert_exporter": "python",
      "pygments_lexer": "ipython3",
      "version": "3.7.3"
    }
  },
  "cells": [
    {
      "cell_type": "markdown",
      "metadata": {
        "colab_type": "text",
        "id": "X9jmUjgfi0gz"
      },
      "source": [
        "# Data Processing Functions For Thesis"
      ]
    },
    {
      "cell_type": "markdown",
      "metadata": {
        "colab_type": "text",
        "id": "iWO7hoZmjyzy"
      },
      "source": [
        "### Packages required"
      ]
    },
    {
      "cell_type": "code",
      "metadata": {
        "colab_type": "code",
        "id": "QezfB0tdjAqf",
        "colab": {}
      },
      "source": [
        "import pandas as pd\n",
        "import io\n",
        "import numpy as np\n",
        "import ast\n",
        "import seaborn as sns\n",
        "import matplotlib.pyplot as plt\n",
        "%matplotlib inline\n",
        "\n",
        "from sklearn.preprocessing import MinMaxScaler \n",
        "from sklearn.model_selection import StratifiedKFold\n",
        "from sklearn.metrics import accuracy_score\n",
        "from sklearn.ensemble import RandomForestClassifier\n",
        "from tqdm import tqdm\n",
        "from fancyimpute import KNN, SoftImpute\n",
        "\n",
        "from scipy import stats\n",
        "from sklearn.ensemble import IsolationForest\n",
        "\n",
        "from collections import Counter, OrderedDict\n",
        "import missingno as msno\n",
        "import warnings\n",
        "warnings.filterwarnings('ignore')"
      ],
      "execution_count": 0,
      "outputs": []
    },
    {
      "cell_type": "code",
      "metadata": {
        "id": "f8pXAqGlsEU2",
        "colab_type": "code",
        "colab": {}
      },
      "source": [
        "!pip install -U -q PyDrive\n",
        "from pydrive.auth import GoogleAuth\n",
        "from pydrive.drive import GoogleDrive\n",
        "from google.colab import auth\n",
        "from oauth2client.client import GoogleCredentials\n",
        "from google.colab import files"
      ],
      "execution_count": 0,
      "outputs": []
    },
    {
      "cell_type": "code",
      "metadata": {
        "id": "PtxX3EOoCsBI",
        "colab_type": "code",
        "colab": {}
      },
      "source": [
        "\n",
        "# Authenticate and create the PyDrive client.\n",
        "auth.authenticate_user()\n",
        "gauth = GoogleAuth()\n",
        "gauth.credentials = GoogleCredentials.get_application_default()\n",
        "drive = GoogleDrive(gauth)"
      ],
      "execution_count": 0,
      "outputs": []
    },
    {
      "cell_type": "markdown",
      "metadata": {
        "colab_type": "text",
        "id": "iVy8aaNxj2sF"
      },
      "source": [
        "### Functions"
      ]
    },
    {
      "cell_type": "code",
      "metadata": {
        "colab_type": "code",
        "id": "Z6mJAcwjFUY9",
        "colab": {}
      },
      "source": [
        "def convert_dates(col_names, df):\n",
        "    # input: list of column names and a dataframe\n",
        "    # output: same dataframe with columns converted to datetimes\n",
        "    for var in tqdm(col_names):\n",
        "        df[var] = pd.to_datetime(df[var])\n",
        "    return df"
      ],
      "execution_count": 0,
      "outputs": []
    },
    {
      "cell_type": "code",
      "metadata": {
        "colab_type": "code",
        "id": "F9qWL_plSyMp",
        "colab": {}
      },
      "source": [
        "def drop_cols(col_names, df):\n",
        "    # input: list of column names and a dataframe\n",
        "    # output: same dataframe with columns dropped\n",
        "    df = df.drop(col_names, axis=1)\n",
        "    return df"
      ],
      "execution_count": 0,
      "outputs": []
    },
    {
      "cell_type": "code",
      "metadata": {
        "colab_type": "code",
        "id": "7rN9J4khnf8h",
        "colab": {}
      },
      "source": [
        "def edit_list_var(col_names, df):\n",
        "    # input: list of column names and a dataframe\n",
        "    # output: same dataframe with changed list cols\n",
        "    for var in col_names:\n",
        "        df[var] = df[var].apply(lambda x: x.split(','))\n",
        "    return df"
      ],
      "execution_count": 0,
      "outputs": []
    },
    {
      "cell_type": "code",
      "metadata": {
        "colab_type": "code",
        "id": "toDZRbP7IWcv",
        "colab": {}
      },
      "source": [
        "def sort_list_vars(col_names, df):\n",
        "    # input: list of column names and a dataframe\n",
        "    # output: same dataframe with ordered list cols\n",
        "    for var in col_names:\n",
        "        df[var] = df[var].apply(lambda x: sorted(ast.literal_eval(x)))\n",
        "    return df"
      ],
      "execution_count": 0,
      "outputs": []
    },
    {
      "cell_type": "code",
      "metadata": {
        "colab_type": "code",
        "id": "1Dd9LkwEnf8k",
        "colab": {}
      },
      "source": [
        "def create_count_col(col_names, df):\n",
        "    # input: list of column names and a dataframe\n",
        "    # output: dataframe with additional columns of counts\n",
        "    for var in col_names:\n",
        "        new_col = var + \"_counts\"\n",
        "        df[new_col] = df[var].apply(lambda x: len(set(x)))\n",
        "    return df"
      ],
      "execution_count": 0,
      "outputs": []
    },
    {
      "cell_type": "code",
      "metadata": {
        "colab_type": "code",
        "id": "j2RNNQz4JrEP",
        "colab": {}
      },
      "source": [
        "def get_missing_value_perc(df):\n",
        "    # input: pandas df\n",
        "    # output: the percetange of missing values in each variable\n",
        "    percent_missing = df.isna().mean().round(4) * 100\n",
        "    missing_value_df = pd.DataFrame({'column_name': df.columns,\n",
        "                                   'percent_missing': percent_missing\n",
        "                                  }\n",
        "    )\n",
        "    return missing_value_df\n",
        "\n",
        "def get_above_missing_threshold(missing_df, th):\n",
        "    # input: pandas df, threshold\n",
        "    # output: variables with missing values above a set threshold\n",
        "    missing_df = missing_df[missing_df['percent_missing'] > th]\n",
        "    return missing_df"
      ],
      "execution_count": 0,
      "outputs": []
    },
    {
      "cell_type": "code",
      "metadata": {
        "colab_type": "code",
        "id": "ULPg3EYTWvA7",
        "colab": {}
      },
      "source": [
        "def get_df_percentage(df, var, value):\n",
        "    # input: dataframe, variable name, and value of variable\n",
        "    # output: percent of clients that value that the var that has defautled\n",
        "    df_var = df[[var,'defaulted']]\n",
        "    def_var = np.float(len(df_var[df_var['defaulted'] == 1]))\n",
        "    paid_var = np.float(len(df_var[df_var['defaulted'] != 1]))\n",
        "    if str(value)=='nan':\n",
        "        def_level = np.float(len(df[(pd.isnull(df[var])) & (df['defaulted'] == 1)]))\n",
        "        paid_level = np.float(len(df[(pd.isnull(df[var])) & (df['defaulted'] != 1)]))\n",
        "    else:\n",
        "        def_level = np.float(len(df[(df[var] == value) & (df['defaulted'] == 1)]))\n",
        "        paid_level = np.float(len(df[(df[var] == value) & (df['defaulted'] != 1)]))\n",
        "    if def_level==0:\n",
        "        def_level+=1\n",
        "    return def_level, paid_level, def_var, paid_var\n",
        "\n",
        "def woe(df, var):\n",
        "    # input: dataframe, variable name\n",
        "    # output: scaled verison of the cat variables\n",
        "    final_rates = []\n",
        "    unique_values = df[var].unique()\n",
        "    for val in unique_values:\n",
        "        defaulted, paid, defaulted_total, paid_total = get_df_percentage(df, var, val)\n",
        "        final_rates.append([val, np.log((paid/paid_total)/(defaulted/defaulted_total)) * 100])\n",
        "    return final_rates"
      ],
      "execution_count": 0,
      "outputs": []
    },
    {
      "cell_type": "code",
      "metadata": {
        "colab_type": "code",
        "id": "wiKw7a_CsTDJ",
        "colab": {}
      },
      "source": [
        "def standardize(df):\n",
        "    # input: a dataframe\n",
        "    # output: scaled dataframe\n",
        "    return df.sub(df.min()).div((df.max() - df.min()))"
      ],
      "execution_count": 0,
      "outputs": []
    },
    {
      "cell_type": "markdown",
      "metadata": {
        "colab_type": "text",
        "id": "M525sTfIFNdj"
      },
      "source": [
        "### Read in Data"
      ]
    },
    {
      "cell_type": "code",
      "metadata": {
        "id": "i_wkkWnw_l1K",
        "colab_type": "code",
        "colab": {}
      },
      "source": [
        "age_link = drive.CreateFile({'id':'1LMZbDFxcbn37p_nfU8VBdrT6qvqZP8du'}) \n",
        "age_link.GetContentFile('age_stats.csv')\n",
        "age = pd.read_csv('age_stats.csv')"
      ],
      "execution_count": 0,
      "outputs": []
    },
    {
      "cell_type": "code",
      "metadata": {
        "id": "JzviY1hcs7N5",
        "colab_type": "code",
        "colab": {}
      },
      "source": [
        "data_link = drive.CreateFile({'id':'1_qKwLiExB8mOpo-95PDGWPKSG8I0M2Vh'}) \n",
        "data_link.GetContentFile('applications_with_data_test.csv')\n",
        "data = pd.read_csv('applications_with_data_test.csv')"
      ],
      "execution_count": 0,
      "outputs": []
    },
    {
      "cell_type": "code",
      "metadata": {
        "colab_type": "code",
        "id": "QKJ2Cv8jFQXF",
        "colab": {}
      },
      "source": [
        "data = pd.merge(data, age, how='left', on=['application_id'])\n",
        "# ensure dates are dates\n",
        "# data = convert_dates(['application_date', 'disbursement_date', 'approval_date', 'due_date', 'paid_date', 'closed_date'], data)"
      ],
      "execution_count": 0,
      "outputs": []
    },
    {
      "cell_type": "markdown",
      "metadata": {
        "colab_type": "text",
        "id": "0NCKe1GCweWB"
      },
      "source": [
        "### Drop Unwanted Columns"
      ]
    },
    {
      "cell_type": "code",
      "metadata": {
        "colab_type": "code",
        "id": "Y-liVU9Atm57",
        "colab": {}
      },
      "source": [
        "data = drop_cols(['Unnamed: 0', 'loan_id', 'client_id', 'application_id','application_date', 'disbursement_date', 'approval_date',\n",
        "                  'due_date', 'paid_date', 'closed_date', 'loan_number', 'loan_amount', 'term_days', 'interest_rate', 'device_network',\n",
        "                  'device_data_expense', 'open_accounts_by_status', 'closed_accounts_by_status','employer_name', 'loan_senders', 'competitors_contacted',\n",
        "                  'credit_providers', 'banks_contacted', 'device', 'payweek', 'check'\n",
        "                 ], data\n",
        "                )"
      ],
      "execution_count": 0,
      "outputs": []
    },
    {
      "cell_type": "markdown",
      "metadata": {
        "colab_type": "text",
        "id": "dEp5E5wEwi7B"
      },
      "source": [
        "### Check Missing Values\n"
      ]
    },
    {
      "cell_type": "code",
      "metadata": {
        "id": "oZb1Tanw3ah7",
        "colab_type": "code",
        "colab": {}
      },
      "source": [
        "bank_cols = {'max_succesful_loan_payment': 0, 'min_succesful_loan_payment': 0,\n",
        "             'max_unsuccesful_loan_payment': 0, 'min_unsuccesful_loan_payment': 0,\n",
        "             'max_loan_amount':0}"
      ],
      "execution_count": 0,
      "outputs": []
    },
    {
      "cell_type": "code",
      "metadata": {
        "id": "UaXHtcZf3ah9",
        "colab_type": "code",
        "colab": {}
      },
      "source": [
        "data = data.fillna(value=bank_cols)"
      ],
      "execution_count": 0,
      "outputs": []
    },
    {
      "cell_type": "code",
      "metadata": {
        "colab_type": "code",
        "id": "1jUGHSiwwiFD",
        "outputId": "e428985b-ebfb-41c7-84aa-2b28707e6dd0",
        "colab": {
          "base_uri": "https://localhost:8080/",
          "height": 235
        }
      },
      "source": [
        "missing = get_missing_value_perc(data)\n",
        "many_missing = get_above_missing_threshold(missing, 20)\n",
        "many_missing"
      ],
      "execution_count": 0,
      "outputs": [
        {
          "output_type": "execute_result",
          "data": {
            "text/html": [
              "<div>\n",
              "<style scoped>\n",
              "    .dataframe tbody tr th:only-of-type {\n",
              "        vertical-align: middle;\n",
              "    }\n",
              "\n",
              "    .dataframe tbody tr th {\n",
              "        vertical-align: top;\n",
              "    }\n",
              "\n",
              "    .dataframe thead th {\n",
              "        text-align: right;\n",
              "    }\n",
              "</style>\n",
              "<table border=\"1\" class=\"dataframe\">\n",
              "  <thead>\n",
              "    <tr style=\"text-align: right;\">\n",
              "      <th></th>\n",
              "      <th>column_name</th>\n",
              "      <th>percent_missing</th>\n",
              "    </tr>\n",
              "  </thead>\n",
              "  <tbody>\n",
              "    <tr>\n",
              "      <th>max_balance</th>\n",
              "      <td>max_balance</td>\n",
              "      <td>21.19</td>\n",
              "    </tr>\n",
              "    <tr>\n",
              "      <th>min_balance</th>\n",
              "      <td>min_balance</td>\n",
              "      <td>21.19</td>\n",
              "    </tr>\n",
              "    <tr>\n",
              "      <th>max_credit</th>\n",
              "      <td>max_credit</td>\n",
              "      <td>33.05</td>\n",
              "    </tr>\n",
              "    <tr>\n",
              "      <th>min_credit</th>\n",
              "      <td>min_credit</td>\n",
              "      <td>33.05</td>\n",
              "    </tr>\n",
              "    <tr>\n",
              "      <th>max_debit</th>\n",
              "      <td>max_debit</td>\n",
              "      <td>22.93</td>\n",
              "    </tr>\n",
              "    <tr>\n",
              "      <th>min_debit</th>\n",
              "      <td>min_debit</td>\n",
              "      <td>22.93</td>\n",
              "    </tr>\n",
              "  </tbody>\n",
              "</table>\n",
              "</div>"
            ],
            "text/plain": [
              "             column_name  percent_missing\n",
              "max_balance  max_balance            21.19\n",
              "min_balance  min_balance            21.19\n",
              "max_credit    max_credit            33.05\n",
              "min_credit    min_credit            33.05\n",
              "max_debit      max_debit            22.93\n",
              "min_debit      min_debit            22.93"
            ]
          },
          "metadata": {
            "tags": []
          },
          "execution_count": 63
        }
      ]
    },
    {
      "cell_type": "code",
      "metadata": {
        "id": "VDRyI9T03aiF",
        "colab_type": "code",
        "outputId": "bc8ff54d-460b-4841-c1fe-dafc933082d2",
        "colab": {
          "base_uri": "https://localhost:8080/",
          "height": 545
        }
      },
      "source": [
        "missing_count = data.isnull().sum(axis=1).tolist()\n",
        "missing_count = Counter(missing_count)\n",
        "missing_count = OrderedDict(sorted(missing_count.items()))\n",
        "missing_count = pd.DataFrame.from_dict(missing_count, orient='index', columns=['Count'])\n",
        "missing_count['cum_sum'] = missing_count['Count'].cumsum()\n",
        "missing_count['cum_perc'] = round(100*missing_count['cum_sum']/missing_count['Count'].sum(),2)\n",
        "missing_count.head(100)"
      ],
      "execution_count": 0,
      "outputs": [
        {
          "output_type": "execute_result",
          "data": {
            "text/html": [
              "<div>\n",
              "<style scoped>\n",
              "    .dataframe tbody tr th:only-of-type {\n",
              "        vertical-align: middle;\n",
              "    }\n",
              "\n",
              "    .dataframe tbody tr th {\n",
              "        vertical-align: top;\n",
              "    }\n",
              "\n",
              "    .dataframe thead th {\n",
              "        text-align: right;\n",
              "    }\n",
              "</style>\n",
              "<table border=\"1\" class=\"dataframe\">\n",
              "  <thead>\n",
              "    <tr style=\"text-align: right;\">\n",
              "      <th></th>\n",
              "      <th>Count</th>\n",
              "      <th>cum_sum</th>\n",
              "      <th>cum_perc</th>\n",
              "    </tr>\n",
              "  </thead>\n",
              "  <tbody>\n",
              "    <tr>\n",
              "      <th>0</th>\n",
              "      <td>28808</td>\n",
              "      <td>28808</td>\n",
              "      <td>45.77</td>\n",
              "    </tr>\n",
              "    <tr>\n",
              "      <th>1</th>\n",
              "      <td>6276</td>\n",
              "      <td>35084</td>\n",
              "      <td>55.75</td>\n",
              "    </tr>\n",
              "    <tr>\n",
              "      <th>2</th>\n",
              "      <td>6275</td>\n",
              "      <td>41359</td>\n",
              "      <td>65.72</td>\n",
              "    </tr>\n",
              "    <tr>\n",
              "      <th>3</th>\n",
              "      <td>1495</td>\n",
              "      <td>42854</td>\n",
              "      <td>68.09</td>\n",
              "    </tr>\n",
              "    <tr>\n",
              "      <th>4</th>\n",
              "      <td>577</td>\n",
              "      <td>43431</td>\n",
              "      <td>69.01</td>\n",
              "    </tr>\n",
              "    <tr>\n",
              "      <th>5</th>\n",
              "      <td>97</td>\n",
              "      <td>43528</td>\n",
              "      <td>69.16</td>\n",
              "    </tr>\n",
              "    <tr>\n",
              "      <th>6</th>\n",
              "      <td>12500</td>\n",
              "      <td>56028</td>\n",
              "      <td>89.03</td>\n",
              "    </tr>\n",
              "    <tr>\n",
              "      <th>7</th>\n",
              "      <td>3516</td>\n",
              "      <td>59544</td>\n",
              "      <td>94.61</td>\n",
              "    </tr>\n",
              "    <tr>\n",
              "      <th>8</th>\n",
              "      <td>1168</td>\n",
              "      <td>60712</td>\n",
              "      <td>96.47</td>\n",
              "    </tr>\n",
              "    <tr>\n",
              "      <th>9</th>\n",
              "      <td>376</td>\n",
              "      <td>61088</td>\n",
              "      <td>97.07</td>\n",
              "    </tr>\n",
              "    <tr>\n",
              "      <th>10</th>\n",
              "      <td>75</td>\n",
              "      <td>61163</td>\n",
              "      <td>97.19</td>\n",
              "    </tr>\n",
              "    <tr>\n",
              "      <th>11</th>\n",
              "      <td>21</td>\n",
              "      <td>61184</td>\n",
              "      <td>97.22</td>\n",
              "    </tr>\n",
              "    <tr>\n",
              "      <th>12</th>\n",
              "      <td>1046</td>\n",
              "      <td>62230</td>\n",
              "      <td>98.88</td>\n",
              "    </tr>\n",
              "    <tr>\n",
              "      <th>13</th>\n",
              "      <td>623</td>\n",
              "      <td>62853</td>\n",
              "      <td>99.87</td>\n",
              "    </tr>\n",
              "    <tr>\n",
              "      <th>14</th>\n",
              "      <td>80</td>\n",
              "      <td>62933</td>\n",
              "      <td>100.00</td>\n",
              "    </tr>\n",
              "    <tr>\n",
              "      <th>15</th>\n",
              "      <td>1</td>\n",
              "      <td>62934</td>\n",
              "      <td>100.00</td>\n",
              "    </tr>\n",
              "  </tbody>\n",
              "</table>\n",
              "</div>"
            ],
            "text/plain": [
              "    Count  cum_sum  cum_perc\n",
              "0   28808    28808     45.77\n",
              "1    6276    35084     55.75\n",
              "2    6275    41359     65.72\n",
              "3    1495    42854     68.09\n",
              "4     577    43431     69.01\n",
              "5      97    43528     69.16\n",
              "6   12500    56028     89.03\n",
              "7    3516    59544     94.61\n",
              "8    1168    60712     96.47\n",
              "9     376    61088     97.07\n",
              "10     75    61163     97.19\n",
              "11     21    61184     97.22\n",
              "12   1046    62230     98.88\n",
              "13    623    62853     99.87\n",
              "14     80    62933    100.00\n",
              "15      1    62934    100.00"
            ]
          },
          "metadata": {
            "tags": []
          },
          "execution_count": 49
        }
      ]
    },
    {
      "cell_type": "code",
      "metadata": {
        "id": "oT9k6ELR3aiI",
        "colab_type": "code",
        "outputId": "2802741f-5f54-48a1-c0fc-67a407253831",
        "colab": {
          "base_uri": "https://localhost:8080/",
          "height": 863
        }
      },
      "source": [
        "msno.heatmap(data)"
      ],
      "execution_count": 0,
      "outputs": [
        {
          "output_type": "execute_result",
          "data": {
            "text/plain": [
              "<matplotlib.axes._subplots.AxesSubplot at 0x7f23b5b8abe0>"
            ]
          },
          "metadata": {
            "tags": []
          },
          "execution_count": 50
        },
        {
          "output_type": "display_data",
          "data": {
            "image/png": "[encoded data removed]",
            "text/plain": [
              "<Figure size 1440x864 with 2 Axes>"
            ]
          },
          "metadata": {
            "tags": []
          }
        }
      ]
    },
    {
      "cell_type": "markdown",
      "metadata": {
        "colab_type": "text",
        "id": "sZeffUI5xBg8"
      },
      "source": [
        "### Order the List Variables"
      ]
    },
    {
      "cell_type": "code",
      "metadata": {
        "colab_type": "code",
        "id": "0w-3KUHxxApt",
        "colab": {}
      },
      "source": [
        "# data = edit_list_var(['credit_providers'], data)\n",
        "# data = sort_list_vars(['banks_contacted', 'competitors_contacted', 'loan_senders'], data)\n",
        "# data = create_count_col(['banks_contacted', 'competitors_contacted', 'loan_senders', 'credit_providers'], data)"
      ],
      "execution_count": 0,
      "outputs": []
    },
    {
      "cell_type": "markdown",
      "metadata": {
        "colab_type": "text",
        "id": "eD4SEDlgMlOO"
      },
      "source": [
        "### Isolate Numeric, Categorical and Target Data"
      ]
    },
    {
      "cell_type": "code",
      "metadata": {
        "colab_type": "code",
        "id": "aoZa02aU87c2",
        "colab": {}
      },
      "source": [
        "num_data = data.select_dtypes(include=['float64','int64'])\n",
        "cat_data = data.select_dtypes(include=['object'])\n",
        "target_data = data['defaulted']"
      ],
      "execution_count": 0,
      "outputs": []
    },
    {
      "cell_type": "markdown",
      "metadata": {
        "colab_type": "text",
        "id": "heczyDhfknxb"
      },
      "source": [
        "### Use Min Max Scaler for Categorical Variables "
      ]
    },
    {
      "cell_type": "code",
      "metadata": {
        "colab_type": "code",
        "id": "Ho3u8LyhWvBP",
        "outputId": "d35f2b41-8e47-406f-ccf3-8a19f2619122",
        "colab": {
          "base_uri": "https://localhost:8080/",
          "height": 493
        }
      },
      "source": [
        "for var in list(cat_data):\n",
        "    rates = []\n",
        "    if var not in ('application_id', 'banks_contacted', 'competitors_contacted', 'loan_senders', 'credit_providers', 'employer_name'):\n",
        "      print(var)\n",
        "      rates = woe(data, var)\n",
        "      for rate in tqdm(rates):\n",
        "          cat_data[var] = cat_data[var].replace(rate[0], rate[1])"
      ],
      "execution_count": 0,
      "outputs": [
        {
          "output_type": "stream",
          "text": [
            "\r  0%|          | 0/8 [00:00<?, ?it/s]"
          ],
          "name": "stderr"
        },
        {
          "output_type": "stream",
          "text": [
            "property_status\n"
          ],
          "name": "stdout"
        },
        {
          "output_type": "stream",
          "text": [
            "100%|██████████| 8/8 [00:01<00:00,  6.39it/s]\n",
            "  0%|          | 0/5 [00:00<?, ?it/s]"
          ],
          "name": "stderr"
        },
        {
          "output_type": "stream",
          "text": [
            "highest_education\n"
          ],
          "name": "stdout"
        },
        {
          "output_type": "stream",
          "text": [
            "100%|██████████| 5/5 [00:00<00:00,  6.48it/s]\n"
          ],
          "name": "stderr"
        },
        {
          "output_type": "stream",
          "text": [
            "time_at_employer\n"
          ],
          "name": "stdout"
        },
        {
          "output_type": "stream",
          "text": [
            "100%|██████████| 38/38 [00:05<00:00,  6.45it/s]\n",
            "  0%|          | 0/5 [00:00<?, ?it/s]"
          ],
          "name": "stderr"
        },
        {
          "output_type": "stream",
          "text": [
            "loan_purpose\n"
          ],
          "name": "stdout"
        },
        {
          "output_type": "stream",
          "text": [
            "100%|██████████| 5/5 [00:00<00:00,  6.24it/s]\n"
          ],
          "name": "stderr"
        },
        {
          "output_type": "stream",
          "text": [
            "time_at_current_address\n"
          ],
          "name": "stdout"
        },
        {
          "output_type": "stream",
          "text": [
            "100%|██████████| 38/38 [00:05<00:00,  6.33it/s]\n"
          ],
          "name": "stderr"
        },
        {
          "output_type": "stream",
          "text": [
            "state\n"
          ],
          "name": "stdout"
        },
        {
          "output_type": "stream",
          "text": [
            "100%|██████████| 38/38 [00:06<00:00,  6.32it/s]\n"
          ],
          "name": "stderr"
        },
        {
          "output_type": "stream",
          "text": [
            "bank\n"
          ],
          "name": "stdout"
        },
        {
          "output_type": "stream",
          "text": [
            "100%|██████████| 19/19 [00:03<00:00,  6.24it/s]\n",
            "  0%|          | 0/5 [00:00<?, ?it/s]"
          ],
          "name": "stderr"
        },
        {
          "output_type": "stream",
          "text": [
            "marital_status\n"
          ],
          "name": "stdout"
        },
        {
          "output_type": "stream",
          "text": [
            "100%|██████████| 5/5 [00:00<00:00,  6.34it/s]\n",
            "  0%|          | 0/7 [00:00<?, ?it/s]"
          ],
          "name": "stderr"
        },
        {
          "output_type": "stream",
          "text": [
            "employment_status\n"
          ],
          "name": "stdout"
        },
        {
          "output_type": "stream",
          "text": [
            "100%|██████████| 7/7 [00:01<00:00,  6.27it/s]\n",
            "  0%|          | 0/2 [00:00<?, ?it/s]"
          ],
          "name": "stderr"
        },
        {
          "output_type": "stream",
          "text": [
            "gender\n"
          ],
          "name": "stdout"
        },
        {
          "output_type": "stream",
          "text": [
            "100%|██████████| 2/2 [00:00<00:00,  6.44it/s]\n",
            "  0%|          | 0/8 [00:00<?, ?it/s]"
          ],
          "name": "stderr"
        },
        {
          "output_type": "stream",
          "text": [
            "device_brand\n"
          ],
          "name": "stdout"
        },
        {
          "output_type": "stream",
          "text": [
            "100%|██████████| 8/8 [00:01<00:00,  5.88it/s]\n"
          ],
          "name": "stderr"
        },
        {
          "output_type": "stream",
          "text": [
            "sector\n"
          ],
          "name": "stdout"
        },
        {
          "output_type": "stream",
          "text": [
            "100%|██████████| 18/18 [00:02<00:00,  5.85it/s]\n",
            "  0%|          | 0/4 [00:00<?, ?it/s]"
          ],
          "name": "stderr"
        },
        {
          "output_type": "stream",
          "text": [
            "application_time\n"
          ],
          "name": "stdout"
        },
        {
          "output_type": "stream",
          "text": [
            "100%|██████████| 4/4 [00:00<00:00,  6.52it/s]\n",
            "  0%|          | 0/4 [00:00<?, ?it/s]"
          ],
          "name": "stderr"
        },
        {
          "output_type": "stream",
          "text": [
            "application_week\n"
          ],
          "name": "stdout"
        },
        {
          "output_type": "stream",
          "text": [
            "100%|██████████| 4/4 [00:00<00:00,  6.57it/s]\n"
          ],
          "name": "stderr"
        }
      ]
    },
    {
      "cell_type": "code",
      "metadata": {
        "colab_type": "code",
        "id": "SLVq6FkfWvBS",
        "outputId": "ae06f192-c848-450d-e902-8039fdc30faf",
        "colab": {
          "base_uri": "https://localhost:8080/",
          "height": 51
        }
      },
      "source": [
        "print(cat_data['marital_status'].unique())\n",
        "print(data['marital_status'].unique())"
      ],
      "execution_count": 0,
      "outputs": [
        {
          "output_type": "stream",
          "text": [
            "[-13.16365502   6.54932331  16.1469928   13.82591148  93.79987175]\n",
            "['Single' 'Married' 'Widowed' 'Separated' nan]\n"
          ],
          "name": "stdout"
        }
      ]
    },
    {
      "cell_type": "markdown",
      "metadata": {
        "colab_type": "text",
        "id": "IUyGHccKpyvD"
      },
      "source": [
        "### Merge Standardised Categorical Data and Numeric Data"
      ]
    },
    {
      "cell_type": "code",
      "metadata": {
        "colab_type": "code",
        "id": "R-GCABZRpxxv",
        "outputId": "d90be0b5-5891-4333-c7d1-98c71717e0c6",
        "colab": {
          "base_uri": "https://localhost:8080/",
          "height": 224
        }
      },
      "source": [
        "model_data = pd.merge(num_data,cat_data, left_index=True, right_index=True)\n",
        "model_data = model_data.where((pd.notnull(model_data)), None)\n",
        "model_data.head()"
      ],
      "execution_count": 0,
      "outputs": [
        {
          "output_type": "execute_result",
          "data": {
            "text/html": [
              "<div>\n",
              "<style scoped>\n",
              "    .dataframe tbody tr th:only-of-type {\n",
              "        vertical-align: middle;\n",
              "    }\n",
              "\n",
              "    .dataframe tbody tr th {\n",
              "        vertical-align: top;\n",
              "    }\n",
              "\n",
              "    .dataframe thead th {\n",
              "        text-align: right;\n",
              "    }\n",
              "</style>\n",
              "<table border=\"1\" class=\"dataframe\">\n",
              "  <thead>\n",
              "    <tr style=\"text-align: right;\">\n",
              "      <th></th>\n",
              "      <th>income</th>\n",
              "      <th>time_at_property</th>\n",
              "      <th>num_applications</th>\n",
              "      <th>total_accounts</th>\n",
              "      <th>open_accounts_by_date</th>\n",
              "      <th>closed_accounts_by_date</th>\n",
              "      <th>performing_loans</th>\n",
              "      <th>paid_loans</th>\n",
              "      <th>nonperforming_loans</th>\n",
              "      <th>lost_loans</th>\n",
              "      <th>missed_payments</th>\n",
              "      <th>defaulted</th>\n",
              "      <th>competitor_count</th>\n",
              "      <th>banking_count</th>\n",
              "      <th>news_count</th>\n",
              "      <th>gambling_count</th>\n",
              "      <th>vpn_count</th>\n",
              "      <th>app_count</th>\n",
              "      <th>device_price</th>\n",
              "      <th>max_balance</th>\n",
              "      <th>min_balance</th>\n",
              "      <th>credit_transactions</th>\n",
              "      <th>max_credit</th>\n",
              "      <th>min_credit</th>\n",
              "      <th>debit_transactions</th>\n",
              "      <th>max_debit</th>\n",
              "      <th>min_debit</th>\n",
              "      <th>insufficient_funds</th>\n",
              "      <th>succesful_payments</th>\n",
              "      <th>max_succesful_loan_payment</th>\n",
              "      <th>min_succesful_loan_payment</th>\n",
              "      <th>unsuccesful_payments</th>\n",
              "      <th>max_unsuccesful_loan_payment</th>\n",
              "      <th>min_unsuccesful_loan_payment</th>\n",
              "      <th>rejected_loans</th>\n",
              "      <th>max_loan_amount</th>\n",
              "      <th>age</th>\n",
              "      <th>property_status</th>\n",
              "      <th>highest_education</th>\n",
              "      <th>time_at_employer</th>\n",
              "      <th>loan_purpose</th>\n",
              "      <th>time_at_current_address</th>\n",
              "      <th>state</th>\n",
              "      <th>bank</th>\n",
              "      <th>marital_status</th>\n",
              "      <th>employment_status</th>\n",
              "      <th>gender</th>\n",
              "      <th>device_brand</th>\n",
              "      <th>sector</th>\n",
              "      <th>application_time</th>\n",
              "      <th>application_week</th>\n",
              "    </tr>\n",
              "  </thead>\n",
              "  <tbody>\n",
              "    <tr>\n",
              "      <th>0</th>\n",
              "      <td>50000</td>\n",
              "      <td>116</td>\n",
              "      <td>2</td>\n",
              "      <td>3</td>\n",
              "      <td>2</td>\n",
              "      <td>1</td>\n",
              "      <td>1</td>\n",
              "      <td>0</td>\n",
              "      <td>1</td>\n",
              "      <td>1</td>\n",
              "      <td>20</td>\n",
              "      <td>0</td>\n",
              "      <td>3</td>\n",
              "      <td>1</td>\n",
              "      <td>0</td>\n",
              "      <td>0</td>\n",
              "      <td>1</td>\n",
              "      <td>205</td>\n",
              "      <td>60188</td>\n",
              "      <td>8405.43</td>\n",
              "      <td>7.92</td>\n",
              "      <td>0</td>\n",
              "      <td>None</td>\n",
              "      <td>None</td>\n",
              "      <td>18</td>\n",
              "      <td>3000</td>\n",
              "      <td>20</td>\n",
              "      <td>0</td>\n",
              "      <td>1</td>\n",
              "      <td>2400</td>\n",
              "      <td>2400</td>\n",
              "      <td>2</td>\n",
              "      <td>1350</td>\n",
              "      <td>1350</td>\n",
              "      <td>0</td>\n",
              "      <td>1275</td>\n",
              "      <td>33</td>\n",
              "      <td>-4.80039</td>\n",
              "      <td>-2.90679</td>\n",
              "      <td>17.7142</td>\n",
              "      <td>-29.2243</td>\n",
              "      <td>20.2292</td>\n",
              "      <td>16.8454</td>\n",
              "      <td>-18.2967</td>\n",
              "      <td>-13.1637</td>\n",
              "      <td>5.48577</td>\n",
              "      <td>-7.75883</td>\n",
              "      <td>1.538</td>\n",
              "      <td>4.16524</td>\n",
              "      <td>-0.419383</td>\n",
              "      <td>-3.81469</td>\n",
              "    </tr>\n",
              "    <tr>\n",
              "      <th>1</th>\n",
              "      <td>30000</td>\n",
              "      <td>33</td>\n",
              "      <td>12</td>\n",
              "      <td>2</td>\n",
              "      <td>1</td>\n",
              "      <td>1</td>\n",
              "      <td>2</td>\n",
              "      <td>0</td>\n",
              "      <td>0</td>\n",
              "      <td>0</td>\n",
              "      <td>1</td>\n",
              "      <td>1</td>\n",
              "      <td>2</td>\n",
              "      <td>2</td>\n",
              "      <td>0</td>\n",
              "      <td>2</td>\n",
              "      <td>0</td>\n",
              "      <td>195</td>\n",
              "      <td>87250</td>\n",
              "      <td>24216.5</td>\n",
              "      <td>-38.51</td>\n",
              "      <td>8</td>\n",
              "      <td>5000</td>\n",
              "      <td>1000</td>\n",
              "      <td>48</td>\n",
              "      <td>23000</td>\n",
              "      <td>50</td>\n",
              "      <td>0</td>\n",
              "      <td>0</td>\n",
              "      <td>0</td>\n",
              "      <td>0</td>\n",
              "      <td>8</td>\n",
              "      <td>5.10021e+08</td>\n",
              "      <td>-5.10021e+08</td>\n",
              "      <td>0</td>\n",
              "      <td>7026</td>\n",
              "      <td>24</td>\n",
              "      <td>3.0705</td>\n",
              "      <td>-7.26357</td>\n",
              "      <td>-24.8582</td>\n",
              "      <td>25.1538</td>\n",
              "      <td>7.44288</td>\n",
              "      <td>7.09018</td>\n",
              "      <td>7.62806</td>\n",
              "      <td>-13.1637</td>\n",
              "      <td>5.48577</td>\n",
              "      <td>-7.75883</td>\n",
              "      <td>1.538</td>\n",
              "      <td>4.16524</td>\n",
              "      <td>-1.23322</td>\n",
              "      <td>4.59513</td>\n",
              "    </tr>\n",
              "    <tr>\n",
              "      <th>2</th>\n",
              "      <td>50000</td>\n",
              "      <td>76</td>\n",
              "      <td>1</td>\n",
              "      <td>3</td>\n",
              "      <td>0</td>\n",
              "      <td>3</td>\n",
              "      <td>3</td>\n",
              "      <td>0</td>\n",
              "      <td>0</td>\n",
              "      <td>0</td>\n",
              "      <td>3</td>\n",
              "      <td>0</td>\n",
              "      <td>3</td>\n",
              "      <td>1</td>\n",
              "      <td>0</td>\n",
              "      <td>0</td>\n",
              "      <td>0</td>\n",
              "      <td>116</td>\n",
              "      <td>33210</td>\n",
              "      <td>103078</td>\n",
              "      <td>14.49</td>\n",
              "      <td>41</td>\n",
              "      <td>100000</td>\n",
              "      <td>3.32</td>\n",
              "      <td>126</td>\n",
              "      <td>92940</td>\n",
              "      <td>30</td>\n",
              "      <td>0</td>\n",
              "      <td>3</td>\n",
              "      <td>2.02e+17</td>\n",
              "      <td>200</td>\n",
              "      <td>0</td>\n",
              "      <td>0</td>\n",
              "      <td>0</td>\n",
              "      <td>0</td>\n",
              "      <td>28175</td>\n",
              "      <td>42</td>\n",
              "      <td>3.0705</td>\n",
              "      <td>-2.90679</td>\n",
              "      <td>0.868152</td>\n",
              "      <td>-16.4695</td>\n",
              "      <td>-3.7967</td>\n",
              "      <td>5.32768</td>\n",
              "      <td>4.82929</td>\n",
              "      <td>6.54932</td>\n",
              "      <td>25.8153</td>\n",
              "      <td>-7.75883</td>\n",
              "      <td>-17.0561</td>\n",
              "      <td>-24.6031</td>\n",
              "      <td>-1.23322</td>\n",
              "      <td>0.436746</td>\n",
              "    </tr>\n",
              "    <tr>\n",
              "      <th>3</th>\n",
              "      <td>211000</td>\n",
              "      <td>39</td>\n",
              "      <td>42</td>\n",
              "      <td>19</td>\n",
              "      <td>4</td>\n",
              "      <td>15</td>\n",
              "      <td>14</td>\n",
              "      <td>0</td>\n",
              "      <td>3</td>\n",
              "      <td>2</td>\n",
              "      <td>77</td>\n",
              "      <td>0</td>\n",
              "      <td>4</td>\n",
              "      <td>4</td>\n",
              "      <td>1</td>\n",
              "      <td>0</td>\n",
              "      <td>2</td>\n",
              "      <td>326</td>\n",
              "      <td>80036</td>\n",
              "      <td>671052</td>\n",
              "      <td>-381696</td>\n",
              "      <td>76</td>\n",
              "      <td>615000</td>\n",
              "      <td>30</td>\n",
              "      <td>343</td>\n",
              "      <td>255000</td>\n",
              "      <td>4</td>\n",
              "      <td>0</td>\n",
              "      <td>3</td>\n",
              "      <td>1900</td>\n",
              "      <td>1900</td>\n",
              "      <td>0</td>\n",
              "      <td>0</td>\n",
              "      <td>0</td>\n",
              "      <td>0</td>\n",
              "      <td>65000</td>\n",
              "      <td>30</td>\n",
              "      <td>-4.80039</td>\n",
              "      <td>-2.90679</td>\n",
              "      <td>0.868152</td>\n",
              "      <td>-29.2243</td>\n",
              "      <td>3.84764</td>\n",
              "      <td>16.8454</td>\n",
              "      <td>18.147</td>\n",
              "      <td>6.54932</td>\n",
              "      <td>5.48577</td>\n",
              "      <td>24.0537</td>\n",
              "      <td>15.2296</td>\n",
              "      <td>4.16524</td>\n",
              "      <td>2.96987</td>\n",
              "      <td>0.437604</td>\n",
              "    </tr>\n",
              "    <tr>\n",
              "      <th>4</th>\n",
              "      <td>198000</td>\n",
              "      <td>41</td>\n",
              "      <td>1</td>\n",
              "      <td>7</td>\n",
              "      <td>0</td>\n",
              "      <td>7</td>\n",
              "      <td>6</td>\n",
              "      <td>0</td>\n",
              "      <td>1</td>\n",
              "      <td>0</td>\n",
              "      <td>12</td>\n",
              "      <td>0</td>\n",
              "      <td>3</td>\n",
              "      <td>1</td>\n",
              "      <td>0</td>\n",
              "      <td>0</td>\n",
              "      <td>0</td>\n",
              "      <td>109</td>\n",
              "      <td>127350</td>\n",
              "      <td>198524</td>\n",
              "      <td>-36195.6</td>\n",
              "      <td>37</td>\n",
              "      <td>197776</td>\n",
              "      <td>1000</td>\n",
              "      <td>184</td>\n",
              "      <td>100000</td>\n",
              "      <td>1</td>\n",
              "      <td>0</td>\n",
              "      <td>2</td>\n",
              "      <td>2.02e+17</td>\n",
              "      <td>2.02e+17</td>\n",
              "      <td>0</td>\n",
              "      <td>0</td>\n",
              "      <td>0</td>\n",
              "      <td>0</td>\n",
              "      <td>18170</td>\n",
              "      <td>54</td>\n",
              "      <td>3.0705</td>\n",
              "      <td>-2.90679</td>\n",
              "      <td>0.868152</td>\n",
              "      <td>25.2003</td>\n",
              "      <td>3.84764</td>\n",
              "      <td>12.2554</td>\n",
              "      <td>4.82929</td>\n",
              "      <td>16.147</td>\n",
              "      <td>5.48577</td>\n",
              "      <td>-7.75883</td>\n",
              "      <td>-6.5547</td>\n",
              "      <td>4.16524</td>\n",
              "      <td>2.96987</td>\n",
              "      <td>-3.81469</td>\n",
              "    </tr>\n",
              "  </tbody>\n",
              "</table>\n",
              "</div>"
            ],
            "text/plain": [
              "   income  time_at_property  ...  application_time  application_week\n",
              "0   50000               116  ...         -0.419383          -3.81469\n",
              "1   30000                33  ...          -1.23322           4.59513\n",
              "2   50000                76  ...          -1.23322          0.436746\n",
              "3  211000                39  ...           2.96987          0.437604\n",
              "4  198000                41  ...           2.96987          -3.81469\n",
              "\n",
              "[5 rows x 51 columns]"
            ]
          },
          "metadata": {
            "tags": []
          },
          "execution_count": 55
        }
      ]
    },
    {
      "cell_type": "markdown",
      "metadata": {
        "colab_type": "text",
        "id": "N62Zpt4jnf9G"
      },
      "source": [
        "### KKN Imputation"
      ]
    },
    {
      "cell_type": "code",
      "metadata": {
        "colab_type": "code",
        "id": "jG8CDgOenf9G",
        "outputId": "49b2ef25-d0b8-474b-822d-8cf96539de49",
        "colab": {
          "base_uri": "https://localhost:8080/",
          "height": 578
        }
      },
      "source": [
        "# standardize data\n",
        "model_data = model_data.apply(standardize, axis=0)\n",
        "filled_model_data = pd.DataFrame(data=SoftImpute().fit_transform(model_data),columns=model_data.columns, index=model_data.index)"
      ],
      "execution_count": 0,
      "outputs": [
        {
          "output_type": "stream",
          "text": [
            "[SoftImpute] Max Singular Value of X_init = 653.549701\n",
            "[SoftImpute] Iter 1: observed MAE=0.021763 rank=25\n",
            "[SoftImpute] Iter 2: observed MAE=0.021800 rank=24\n",
            "[SoftImpute] Iter 3: observed MAE=0.021813 rank=23\n",
            "[SoftImpute] Iter 4: observed MAE=0.021776 rank=23\n",
            "[SoftImpute] Iter 5: observed MAE=0.021762 rank=23\n",
            "[SoftImpute] Iter 6: observed MAE=0.021756 rank=23\n",
            "[SoftImpute] Iter 7: observed MAE=0.021656 rank=22\n",
            "[SoftImpute] Iter 8: observed MAE=0.021575 rank=22\n",
            "[SoftImpute] Iter 9: observed MAE=0.021549 rank=22\n",
            "[SoftImpute] Iter 10: observed MAE=0.021541 rank=22\n",
            "[SoftImpute] Iter 11: observed MAE=0.021540 rank=22\n",
            "[SoftImpute] Iter 12: observed MAE=0.021540 rank=22\n",
            "[SoftImpute] Iter 13: observed MAE=0.021541 rank=22\n",
            "[SoftImpute] Iter 14: observed MAE=0.021540 rank=22\n",
            "[SoftImpute] Iter 15: observed MAE=0.021539 rank=22\n",
            "[SoftImpute] Iter 16: observed MAE=0.021535 rank=22\n",
            "[SoftImpute] Iter 17: observed MAE=0.021529 rank=22\n",
            "[SoftImpute] Iter 18: observed MAE=0.021520 rank=22\n",
            "[SoftImpute] Iter 19: observed MAE=0.021506 rank=22\n",
            "[SoftImpute] Iter 20: observed MAE=0.021488 rank=22\n",
            "[SoftImpute] Iter 21: observed MAE=0.021463 rank=22\n",
            "[SoftImpute] Iter 22: observed MAE=0.021431 rank=22\n",
            "[SoftImpute] Iter 23: observed MAE=0.021394 rank=22\n",
            "[SoftImpute] Iter 24: observed MAE=0.021356 rank=22\n",
            "[SoftImpute] Iter 25: observed MAE=0.021321 rank=22\n",
            "[SoftImpute] Iter 26: observed MAE=0.021294 rank=22\n",
            "[SoftImpute] Iter 27: observed MAE=0.021274 rank=22\n",
            "[SoftImpute] Iter 28: observed MAE=0.021261 rank=22\n",
            "[SoftImpute] Iter 29: observed MAE=0.021253 rank=22\n",
            "[SoftImpute] Iter 30: observed MAE=0.021247 rank=22\n",
            "[SoftImpute] Iter 31: observed MAE=0.021244 rank=22\n",
            "[SoftImpute] Stopped after iteration 31 for lambda=13.070994\n"
          ],
          "name": "stdout"
        }
      ]
    },
    {
      "cell_type": "markdown",
      "metadata": {
        "id": "Qcxo3U9FMW_K",
        "colab_type": "text"
      },
      "source": [
        "### Outlier Detection\n",
        "\n",
        "\n"
      ]
    },
    {
      "cell_type": "markdown",
      "metadata": {
        "id": "CKwYv4PCjmD7",
        "colab_type": "text"
      },
      "source": [
        ""
      ]
    },
    {
      "cell_type": "code",
      "metadata": {
        "id": "YkZGo55zMVub",
        "colab_type": "code",
        "colab": {}
      },
      "source": [
        "clf = IsolationForest(behaviour = 'new', max_samples=100, random_state = 1, contamination= 'auto')\n",
        "preds = clf.fit_predict(filled_model_data)\n",
        "filled_model_data['Outlier'] = preds"
      ],
      "execution_count": 0,
      "outputs": []
    },
    {
      "cell_type": "markdown",
      "metadata": {
        "id": "-POi-4TDjHks",
        "colab_type": "text"
      },
      "source": [
        "### Remove Outliers"
      ]
    },
    {
      "cell_type": "code",
      "metadata": {
        "id": "9GxBRaON3aid",
        "colab_type": "code",
        "outputId": "3cd03cc4-4dfd-409a-b3e3-3016f8cd8374",
        "colab": {
          "base_uri": "https://localhost:8080/",
          "height": 34
        }
      },
      "source": [
        "final_model_data = filled_model_data[filled_model_data['Outlier']==1]\n",
        "print('Outlier removed: ', filled_model_data.shape[0]-final_model_data.shape[0])"
      ],
      "execution_count": 0,
      "outputs": [
        {
          "output_type": "stream",
          "text": [
            "Outlier removed:  2627\n"
          ],
          "name": "stdout"
        }
      ]
    },
    {
      "cell_type": "markdown",
      "metadata": {
        "id": "0z-l5_PtkVM8",
        "colab_type": "text"
      },
      "source": [
        "### Export Model Dataset"
      ]
    },
    {
      "cell_type": "code",
      "metadata": {
        "id": "TNIFBHggjFPj",
        "colab_type": "code",
        "outputId": "02003b4d-6105-4d70-bc0f-6c3e1f1cba5a",
        "colab": {
          "base_uri": "https://localhost:8080/",
          "height": 34
        }
      },
      "source": [
        "# final_model_data.to_csv('final_model_data.csv') \n",
        "# files.download('final_model_data.csv')\n",
        "print(final_model_data.shape)"
      ],
      "execution_count": 0,
      "outputs": [
        {
          "output_type": "stream",
          "text": [
            "(60307, 52)\n"
          ],
          "name": "stdout"
        }
      ]
    }
  ]
}